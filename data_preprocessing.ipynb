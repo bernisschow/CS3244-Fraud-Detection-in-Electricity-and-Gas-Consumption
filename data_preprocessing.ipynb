{
 "cells": [
  {
   "cell_type": "code",
   "execution_count": 122,
   "metadata": {},
   "outputs": [],
   "source": [
    "# import libraries\n",
    "import pandas as pd\n",
    "import dask.dataframe as dd\n",
    "import os\n",
    "\n",
    "from sklearn.preprocessing import LabelEncoder, StandardScaler\n",
    "import matplotlib.pyplot as plt\n",
    "import seaborn as sns\n",
    "import numpy as np"
   ]
  },
  {
   "cell_type": "code",
   "execution_count": 123,
   "metadata": {},
   "outputs": [],
   "source": [
    "# load client and invoice datasets\n",
    "client_test = pd.read_csv('data/client_test.csv')\n",
    "client_train = pd.read_csv('data/client_train.csv')\n",
    "\n",
    "invoice_train = pd.read_parquet('data/invoice_train_compressed.csv.parquet')\n",
    "invoice_test = pd.read_parquet('data/invoice_test_compressed.csv.parquet')"
   ]
  },
  {
   "cell_type": "code",
   "execution_count": 124,
   "metadata": {},
   "outputs": [
    {
     "data": {
      "text/plain": [
       "Index(['client_id', 'invoice_date', 'tarif_type', 'counter_number',\n",
       "       'counter_statue', 'counter_code', 'reading_remarque',\n",
       "       'counter_coefficient', 'consommation_level_1', 'consommation_level_2',\n",
       "       'consommation_level_3', 'consommation_level_4', 'old_index',\n",
       "       'new_index', 'months_number', 'counter_type'],\n",
       "      dtype='object')"
      ]
     },
     "execution_count": 124,
     "metadata": {},
     "output_type": "execute_result"
    }
   ],
   "source": [
    "invoice_train.columns"
   ]
  },
  {
   "cell_type": "code",
   "execution_count": 125,
   "metadata": {},
   "outputs": [
    {
     "data": {
      "text/html": [
       "<div>\n",
       "<style scoped>\n",
       "    .dataframe tbody tr th:only-of-type {\n",
       "        vertical-align: middle;\n",
       "    }\n",
       "\n",
       "    .dataframe tbody tr th {\n",
       "        vertical-align: top;\n",
       "    }\n",
       "\n",
       "    .dataframe thead th {\n",
       "        text-align: right;\n",
       "    }\n",
       "</style>\n",
       "<table border=\"1\" class=\"dataframe\">\n",
       "  <thead>\n",
       "    <tr style=\"text-align: right;\">\n",
       "      <th></th>\n",
       "      <th>disrict</th>\n",
       "      <th>client_id</th>\n",
       "      <th>client_catg</th>\n",
       "      <th>region</th>\n",
       "      <th>creation_date</th>\n",
       "      <th>target</th>\n",
       "    </tr>\n",
       "  </thead>\n",
       "  <tbody>\n",
       "    <tr>\n",
       "      <th>0</th>\n",
       "      <td>60</td>\n",
       "      <td>train_Client_0</td>\n",
       "      <td>11</td>\n",
       "      <td>101</td>\n",
       "      <td>31/12/1994</td>\n",
       "      <td>0.0</td>\n",
       "    </tr>\n",
       "    <tr>\n",
       "      <th>1</th>\n",
       "      <td>69</td>\n",
       "      <td>train_Client_1</td>\n",
       "      <td>11</td>\n",
       "      <td>107</td>\n",
       "      <td>29/05/2002</td>\n",
       "      <td>0.0</td>\n",
       "    </tr>\n",
       "    <tr>\n",
       "      <th>2</th>\n",
       "      <td>62</td>\n",
       "      <td>train_Client_10</td>\n",
       "      <td>11</td>\n",
       "      <td>301</td>\n",
       "      <td>13/03/1986</td>\n",
       "      <td>0.0</td>\n",
       "    </tr>\n",
       "    <tr>\n",
       "      <th>3</th>\n",
       "      <td>69</td>\n",
       "      <td>train_Client_100</td>\n",
       "      <td>11</td>\n",
       "      <td>105</td>\n",
       "      <td>11/07/1996</td>\n",
       "      <td>0.0</td>\n",
       "    </tr>\n",
       "    <tr>\n",
       "      <th>4</th>\n",
       "      <td>62</td>\n",
       "      <td>train_Client_1000</td>\n",
       "      <td>11</td>\n",
       "      <td>303</td>\n",
       "      <td>14/10/2014</td>\n",
       "      <td>0.0</td>\n",
       "    </tr>\n",
       "  </tbody>\n",
       "</table>\n",
       "</div>"
      ],
      "text/plain": [
       "   disrict          client_id  client_catg  region creation_date  target\n",
       "0       60     train_Client_0           11     101    31/12/1994     0.0\n",
       "1       69     train_Client_1           11     107    29/05/2002     0.0\n",
       "2       62    train_Client_10           11     301    13/03/1986     0.0\n",
       "3       69   train_Client_100           11     105    11/07/1996     0.0\n",
       "4       62  train_Client_1000           11     303    14/10/2014     0.0"
      ]
     },
     "execution_count": 125,
     "metadata": {},
     "output_type": "execute_result"
    }
   ],
   "source": [
    "# inspect client training dataset\n",
    "client_train.head()"
   ]
  },
  {
   "cell_type": "code",
   "execution_count": 126,
   "metadata": {},
   "outputs": [
    {
     "data": {
      "text/html": [
       "<div>\n",
       "<style scoped>\n",
       "    .dataframe tbody tr th:only-of-type {\n",
       "        vertical-align: middle;\n",
       "    }\n",
       "\n",
       "    .dataframe tbody tr th {\n",
       "        vertical-align: top;\n",
       "    }\n",
       "\n",
       "    .dataframe thead th {\n",
       "        text-align: right;\n",
       "    }\n",
       "</style>\n",
       "<table border=\"1\" class=\"dataframe\">\n",
       "  <thead>\n",
       "    <tr style=\"text-align: right;\">\n",
       "      <th></th>\n",
       "      <th>disrict</th>\n",
       "      <th>client_catg</th>\n",
       "      <th>region</th>\n",
       "      <th>target</th>\n",
       "    </tr>\n",
       "  </thead>\n",
       "  <tbody>\n",
       "    <tr>\n",
       "      <th>count</th>\n",
       "      <td>135493.000000</td>\n",
       "      <td>135493.000000</td>\n",
       "      <td>135493.000000</td>\n",
       "      <td>135493.000000</td>\n",
       "    </tr>\n",
       "    <tr>\n",
       "      <th>mean</th>\n",
       "      <td>63.511222</td>\n",
       "      <td>11.512506</td>\n",
       "      <td>206.159809</td>\n",
       "      <td>0.055841</td>\n",
       "    </tr>\n",
       "    <tr>\n",
       "      <th>std</th>\n",
       "      <td>3.354400</td>\n",
       "      <td>4.423761</td>\n",
       "      <td>104.207044</td>\n",
       "      <td>0.229614</td>\n",
       "    </tr>\n",
       "    <tr>\n",
       "      <th>min</th>\n",
       "      <td>60.000000</td>\n",
       "      <td>11.000000</td>\n",
       "      <td>101.000000</td>\n",
       "      <td>0.000000</td>\n",
       "    </tr>\n",
       "    <tr>\n",
       "      <th>25%</th>\n",
       "      <td>62.000000</td>\n",
       "      <td>11.000000</td>\n",
       "      <td>103.000000</td>\n",
       "      <td>0.000000</td>\n",
       "    </tr>\n",
       "    <tr>\n",
       "      <th>50%</th>\n",
       "      <td>62.000000</td>\n",
       "      <td>11.000000</td>\n",
       "      <td>107.000000</td>\n",
       "      <td>0.000000</td>\n",
       "    </tr>\n",
       "    <tr>\n",
       "      <th>75%</th>\n",
       "      <td>69.000000</td>\n",
       "      <td>11.000000</td>\n",
       "      <td>307.000000</td>\n",
       "      <td>0.000000</td>\n",
       "    </tr>\n",
       "    <tr>\n",
       "      <th>max</th>\n",
       "      <td>69.000000</td>\n",
       "      <td>51.000000</td>\n",
       "      <td>399.000000</td>\n",
       "      <td>1.000000</td>\n",
       "    </tr>\n",
       "  </tbody>\n",
       "</table>\n",
       "</div>"
      ],
      "text/plain": [
       "             disrict    client_catg         region         target\n",
       "count  135493.000000  135493.000000  135493.000000  135493.000000\n",
       "mean       63.511222      11.512506     206.159809       0.055841\n",
       "std         3.354400       4.423761     104.207044       0.229614\n",
       "min        60.000000      11.000000     101.000000       0.000000\n",
       "25%        62.000000      11.000000     103.000000       0.000000\n",
       "50%        62.000000      11.000000     107.000000       0.000000\n",
       "75%        69.000000      11.000000     307.000000       0.000000\n",
       "max        69.000000      51.000000     399.000000       1.000000"
      ]
     },
     "execution_count": 126,
     "metadata": {},
     "output_type": "execute_result"
    }
   ],
   "source": [
    "client_train.describe()"
   ]
  },
  {
   "cell_type": "code",
   "execution_count": 127,
   "metadata": {},
   "outputs": [
    {
     "data": {
      "text/plain": [
       "<Axes: title={'center': 'Distribution of Classifications'}, xlabel='prediction'>"
      ]
     },
     "execution_count": 127,
     "metadata": {},
     "output_type": "execute_result"
    },
    {
     "data": {
      "image/png": "[encoded data removed]",
      "text/plain": [
       "<Figure size 640x480 with 1 Axes>"
      ]
     },
     "metadata": {},
     "output_type": "display_data"
    }
   ],
   "source": [
    "# Create a new column called prediction\n",
    "client_train['prediction'] = np.where(client_train['target']==1, \"Fraud\", \"Not Fraud\")\n",
    "\n",
    "# Then remove the target column\n",
    "client_train.drop('target', axis=1, inplace=True)\n",
    "\n",
    "client_train['prediction'].value_counts().plot(kind = 'bar', title = 'Distribution of Classifications')"
   ]
  },
  {
   "cell_type": "markdown",
   "metadata": {},
   "source": [
    "Observation: <br>\n",
    "This bar plot shows the distribution of fraud and non-fraud classifications in the training dataset. The training dataset is imbalanced, with more \"Not Fraud\" than \"Fraud\" classifications."
   ]
  },
  {
   "cell_type": "code",
   "execution_count": 128,
   "metadata": {},
   "outputs": [
    {
     "name": "stdout",
     "output_type": "stream",
     "text": [
      "\n",
      "Client Train Columns: ['disrict', 'client_id', 'client_catg', 'region', 'creation_date', 'prediction']\n",
      "Invoice Train Columns: ['client_id', 'invoice_date', 'tarif_type', 'counter_number', 'counter_statue', 'counter_code', 'reading_remarque', 'counter_coefficient', 'consommation_level_1', 'consommation_level_2', 'consommation_level_3', 'consommation_level_4', 'old_index', 'new_index', 'months_number', 'counter_type']\n"
     ]
    }
   ],
   "source": [
    "# check the column names to identify the common key for merging\n",
    "print(\"\\nClient Train Columns:\", client_train.columns.tolist())\n",
    "print(\"Invoice Train Columns:\", invoice_train.columns.tolist())"
   ]
  },
  {
   "cell_type": "code",
   "execution_count": 130,
   "metadata": {},
   "outputs": [],
   "source": [
    "# merge client and invoice training dataset\n",
    "merged_train = pd.merge(invoice_train, client_train, on='client_id', how='inner')"
   ]
  },
  {
   "cell_type": "code",
   "execution_count": null,
   "metadata": {},
   "outputs": [],
   "source": [
    "merged_train.info()"
   ]
  },
  {
   "cell_type": "code",
   "execution_count": null,
   "metadata": {},
   "outputs": [],
   "source": [
    "merged_train.describe()"
   ]
  },
  {
   "cell_type": "code",
   "execution_count": null,
   "metadata": {},
   "outputs": [],
   "source": [
    "# check for missing data\n",
    "merged_train.isnull().sum()"
   ]
  },
  {
   "cell_type": "code",
   "execution_count": null,
   "metadata": {},
   "outputs": [],
   "source": [
    "# Calculate the number of unique values in each numeric column\n",
    "unique_values = merged_train.select_dtypes(include='number').nunique()\n",
    "\n",
    "# Get the columns where there is only one unique value\n",
    "zero_variance_columns = unique_values[unique_values == 1].index.tolist()\n",
    "\n",
    "# Print the list of columns with zero variance (constant columns)\n",
    "print(\"Columns with only one unique value (zero variance):\", zero_variance_columns)"
   ]
  },
  {
   "cell_type": "markdown",
   "metadata": {},
   "source": [
    "Conclusion: <br>\n",
    "Since numerical columns are actually categorical, they represent discrete categories rather than continuous values. In this scenario, the standard variance calculation may not fully capture their importance, but columns with zero variance still indicate no variability in the data. For categorical columns, it may be more meaningful to look at unique counts rather than variance. This means those columns are constant across all rows and can be removed."
   ]
  },
  {
   "cell_type": "code",
   "execution_count": null,
   "metadata": {},
   "outputs": [],
   "source": [
    "# check for duplicated rows\n",
    "merged_train[merged_train.duplicated()]"
   ]
  },
  {
   "cell_type": "code",
   "execution_count": 97,
   "metadata": {},
   "outputs": [],
   "source": [
    "# Drop duplicate rows\n",
    "merged_train = merged_train.drop_duplicates()"
   ]
  },
  {
   "cell_type": "code",
   "execution_count": null,
   "metadata": {},
   "outputs": [],
   "source": [
    "# check for duplicated rows\n",
    "merged_train[merged_train.duplicated()]"
   ]
  },
  {
   "cell_type": "markdown",
   "metadata": {},
   "source": [
    "For categorical data, especially if it's encoded as integers, checking for outliers is generally not applicable in the same way it is for numerical data. For integer-encoded categorical data, checking for outliers in the traditional sense (e.g., using z-scores, interquartile ranges) is irrelevant because the values simply represent different categories. They are not continuous or ordinal numbers where \"extreme values\" could be identified."
   ]
  },
  {
   "cell_type": "code",
   "execution_count": null,
   "metadata": {},
   "outputs": [],
   "source": [
    "# check for imbalanced data\n",
    "\n",
    "# Use the merged_train dataset and select relevant numerical columns\n",
    "numeric_columns = [\n",
    "    'disrict', 'client_catg', 'region', \n",
    "    'tarif_type', 'counter_number', \n",
    "    'reading_remarque', 'counter_coefficient', \n",
    "    'consommation_level_1', 'consommation_level_2',\n",
    "    'consommation_level_3', 'consommation_level_4',\n",
    "    'old_index', 'new_index', 'months_number'\n",
    "]\n",
    "\n",
    "# Set a smaller sample size for visualization to speed up the process\n",
    "sample_size = 5000  # Reduced sample size\n",
    "merged_sample = merged_train.sample(n=sample_size, random_state=42)\n",
    "\n",
    "# Pre-calculate value counts for all numeric columns\n",
    "value_counts = {col: merged_sample[col].value_counts() for col in numeric_columns}\n",
    "\n",
    "# Set the number of rows and columns for subplots\n",
    "num_vars = len(numeric_columns)\n",
    "num_cols = 3  # Adjust this value based on how many columns you want in the grid\n",
    "num_rows = (num_vars + num_cols - 1) // num_cols  # Calculate number of rows needed\n",
    "\n",
    "# Create a figure and a set of subplots\n",
    "fig, axes = plt.subplots(num_rows, num_cols, figsize=(15, 5 * num_rows))\n",
    "axes = axes.flatten()  # Flatten the 2D array of axes to 1D for easy indexing\n",
    "\n",
    "# Iterate over each top correlated variable and plot\n",
    "for i, feature in enumerate(numeric_columns):\n",
    "    counts = value_counts[feature]\n",
    "    axes[i].bar(counts.index.astype(str), counts.values)\n",
    "    axes[i].set_title(f'Distribution of {feature}')\n",
    "    axes[i].set_xlabel(feature)\n",
    "    axes[i].set_ylabel('Count')\n",
    "    \n",
    "    # Rotate x-axis labels for better readability and display only some ticks\n",
    "    axes[i].tick_params(axis='x', rotation=45)\n",
    "    \n",
    "    # Show fewer x-ticks: display every nth label depending on unique values\n",
    "    if len(counts.index) > 10:  # Adjust the number of ticks based on the length\n",
    "        step = len(counts.index) // 10  # Show only about 10 labels\n",
    "        axes[i].set_xticks(counts.index[::step].astype(str))\n",
    "\n",
    "# Hide any unused subplots\n",
    "for j in range(i + 1, len(axes)):\n",
    "    fig.delaxes(axes[j])\n",
    "\n",
    "plt.tight_layout()  # Adjust layout to prevent overlap\n",
    "plt.show()"
   ]
  },
  {
   "cell_type": "code",
   "execution_count": null,
   "metadata": {},
   "outputs": [],
   "source": [
    "# check for curse of dimensionality\n",
    "\n",
    "from sklearn.metrics import pairwise_distances\n",
    "from sklearn.preprocessing import StandardScaler\n",
    "\n",
    "# Randomly sample a subset of the data (e.g., 10,000 samples)\n",
    "sample_size = 10000 \n",
    "merged_sample = merged_train.sample(n=sample_size, random_state=42)\n",
    "\n",
    "# Standardize the data for better distance computation\n",
    "scaler = StandardScaler()\n",
    "scaled_data = scaler.fit_transform(merged_sample[numeric_columns])\n",
    "\n",
    "# Function to plot histograms for given dimensions\n",
    "def plot_histograms(data, dimensions, num_bins=50):\n",
    "    plt.figure(figsize=(15, 10))\n",
    "    \n",
    "    for idx, dim in enumerate(dimensions):\n",
    "        # Calculate Euclidean distances for the specified dimensions\n",
    "        distances = pairwise_distances(data[:, :dim])\n",
    "        distance_vector = distances[np.triu_indices(distances.shape[0], k=1)]\n",
    "        \n",
    "        # Calculate the standard deviation of distances\n",
    "        sd = np.std(distance_vector)\n",
    "        \n",
    "        # Plot histogram\n",
    "        plt.subplot(2, 2, idx + 1)\n",
    "        plt.hist(distance_vector, bins=num_bins, density=True)\n",
    "        plt.title(f'Dimensions: {dim}\\nSD: {sd:.4f}')\n",
    "        plt.xlabel('Euclidean Distance')\n",
    "        plt.ylabel('Density')\n",
    "        plt.grid(axis='y', alpha=0.75)\n",
    "\n",
    "    plt.tight_layout()\n",
    "    plt.show()\n",
    "\n",
    "# Define dimensions to explore\n",
    "dimensions_to_plot = [2, 3, 5, 10] \n",
    "\n",
    "# Plot histograms\n",
    "plot_histograms(scaled_data, dimensions_to_plot)"
   ]
  },
  {
   "cell_type": "markdown",
   "metadata": {},
   "source": [
    "Conclusion: <br>\n",
    "The histogram of Euclidean distances shows that both standard deviation and variance increase as the number of dimensions grows. This suggests that the dataset has too many features, leading to sparsity, which makes it difficult to identify the true decision boundaries for classification. The high variance in the model, when fitting to sparse training data, increases the risk of overfitting."
   ]
  },
  {
   "cell_type": "code",
   "execution_count": null,
   "metadata": {},
   "outputs": [],
   "source": [
    "def plot_top_correlations(df: pd.core.frame.DataFrame, n: int, title_name: str = 'Pearson Correlation Coefficient') -> None:\n",
    "    # Select only numeric columns\n",
    "    numeric_cols = df.select_dtypes(include='number')\n",
    "\n",
    "    # Calculate correlation between numeric variables\n",
    "    corr = numeric_cols.corr()\n",
    "\n",
    "    # Select variables having highest absolute correlation\n",
    "    top_corr_cols = corr.abs().nlargest(n, columns=corr.columns).index\n",
    "    top_corr = corr.loc[top_corr_cols, top_corr_cols]\n",
    "\n",
    "    mask = np.zeros_like(top_corr)\n",
    "    mask[np.triu_indices_from(mask)] = True\n",
    "    heatmap = sns.heatmap(top_corr, mask=mask, annot=True , annot_kws={\"size\": 8}, \n",
    "                          cmap='coolwarm', fmt='.2f', \n",
    "                          linewidths=0.5, cbar=True, )\n",
    "    plt.title(title_name, fontsize=14)\n",
    "    plt.xticks(fontsize=8, rotation=90)\n",
    "    plt.yticks(fontsize=8, rotation=0)\n",
    "\n",
    "    cbar = heatmap.collections[0].colorbar\n",
    "    cbar.ax.tick_params(labelsize=8)\n",
    "\n",
    "    plt.show()\n",
    "\n",
    "# Plot heatmap of top 12 correlations in training data for numeric columns\n",
    "plot_top_correlations(merged_train, 12, 'Pearson Correlation Coefficient')"
   ]
  },
  {
   "cell_type": "markdown",
   "metadata": {},
   "source": [
    "Conclusion: <br>\n",
    "The Pearson correlation coefficient measures the linear relationship between pairs of features, where values close to 1 indicate a strong positive correlation, values close to -1 indicate a strong negative correlation, and values around 0 indicate little or no linear relationship."
   ]
  },
  {
   "cell_type": "code",
   "execution_count": null,
   "metadata": {},
   "outputs": [],
   "source": [
    "# mitigate curse of dimensionality\n",
    "from scipy import stats\n",
    "\n",
    "# Select a smaller sample size\n",
    "sample_size = 5000  # Adjusted sample size\n",
    "merged_sample = merged_train.sample(n=sample_size, random_state=42)\n",
    "\n",
    "# Select only numeric columns\n",
    "numeric_cols = merged_sample.select_dtypes(include='number')\n",
    "\n",
    "# Calculate correlation between numeric variables\n",
    "corr = numeric_cols.corr()\n",
    "\n",
    "# Select variables having highest absolute correlation (top 6)\n",
    "top_corr = corr.abs().unstack().sort_values(ascending=False).drop_duplicates()\n",
    "top_corr_pairs = top_corr[top_corr < 1].head(12).index.tolist()\n",
    "\n",
    "# Create a list of unique pairs for plotting\n",
    "top_corr_cols = list(set([pair[0] for pair in top_corr_pairs] + [pair[1] for pair in top_corr_pairs]))\n",
    "\n",
    "# Function definitions for correlation and plotting\n",
    "def corrdot(x, y, **kwargs):\n",
    "    corr_r = x.corr(y, 'pearson')\n",
    "    corr_text = round(corr_r, 4)\n",
    "    ax = plt.gca()\n",
    "    font_size = abs(corr_r) * 80 + 5\n",
    "    ax.annotate(corr_text, [0.5, 0.5], xycoords=\"axes fraction\",\n",
    "                ha='center', va='center', fontsize=font_size)\n",
    "\n",
    "def corrfunc(x, y, **kws):\n",
    "    r, p = stats.pearsonr(x, y)\n",
    "    p_stars = ''\n",
    "    if p <= 0.05:\n",
    "        p_stars = '*'\n",
    "    if p <= 0.01:\n",
    "        p_stars = '**'\n",
    "    if p <= 0.001:\n",
    "        p_stars = '***'\n",
    "    ax = plt.gca()\n",
    "    ax.annotate(p_stars, xy=(0.65, 0.6), xycoords=ax.transAxes,\n",
    "                color='red', fontsize=70)\n",
    "\n",
    "# Plotting\n",
    "sns.set(style='white', font_scale=1.6)\n",
    "g = sns.PairGrid(merged_sample[top_corr_cols], aspect=1.5, diag_sharey=False, despine=False)\n",
    "g.map_lower(sns.regplot, ci=False,\n",
    "            line_kws={'color': 'red', 'lw': 1},\n",
    "            scatter_kws={'color': 'black', 's': 20})\n",
    "g.map_diag(sns.histplot, color='black', kde=True)\n",
    "g.map_upper(corrdot)\n",
    "g.map_upper(corrfunc)\n",
    "g.fig.subplots_adjust(wspace=0, hspace=0)\n",
    "\n",
    "# Remove axis labels\n",
    "for ax in g.axes.flatten():\n",
    "    ax.set_ylabel('')\n",
    "    ax.set_xlabel('')\n",
    "\n",
    "# Add titles to the diagonal axes/subplots\n",
    "for ax, col in zip(np.diag(g.axes), top_corr_cols):\n",
    "    ax.set_title(col, y=0.82, fontsize=26)\n",
    "\n",
    "plt.show()\n"
   ]
  },
  {
   "cell_type": "markdown",
   "metadata": {},
   "source": [
    "Conclusion: <br>\n",
    "1. The corrrelation coefficients (numeric values on the upper half of the pairplot) represent the Pearson correlation coefficients between pairs of features. \n",
    "- Values near 1 indicate positive correlation meaning that as one variable increases, the other variable tends to increase.\n",
    "- Values near -1 indicate negative correlation meaning that as one variable increases, the other variable tends to decrease.\n",
    "- Values near 0 indicate weak or no linear relationship. \n",
    "<br>\n",
    "2. Astericks show statistical significance of the correlations.\n",
    "- `*` indicates p ≤ 0.05 (significant)\n",
    "- `**` indicates p ≤ 0.01 (more significant)\n",
    "- `***` indicates p ≤ 0.001 (highly significant)\n",
    "<br>\n",
    "3. Scatterplots and trendlines (lower half of the pairplot)\n",
    "- The scatterplots show the relationships between pairs of features, with red trendlines indicating the direction of the relationships (positive or negative).\n",
    "- A linear pattern would indicate a stronger relationship, while a dispersed or random pattern suggests weak or no relationship. <br>\n",
    "\n",
    "The curse of dimensionality can lead to overfitting and increased computational complexity when working with many features. It’s important to reduce the number of features, especially those that add redundant or irrelevant information. Features that are highly correlated with each other may provide redundant information and can often be removed.\n",
    "\n",
    "Features to consider reducing:\n",
    "   - `old_index` and `new_index`: These have a very high correlation (close to 1, with a coefficient of 0.9959), meaning they essentially provide the same information. Including both in a machine learning model may be redundant, so you could drop one of them.\n",
    "   - `client_catg` and `region`: They have a strong negative correlation (-0.8316), meaning they are inversely related. Depending on your model, you may want to choose one of them. <br>\n",
    "\n",
    "Other highly correlated features:\n",
    "   - `tariff_type` and `region` (0.4473) show moderate correlation.\n",
    "   - `cbnsommation_level_3` and `cbnsommation_level_4` (0.3637) also show a strong positive correlation, indicating potential redundancy.\n",
    "\n",
    "Weak correlations:\n",
    "   - Some features, such as `district`, seem to have lower or no significant correlation with other features (as seen by smaller correlation values), suggesting they may not provide much predictive power and could potentially be ignored in feature selection."
   ]
  }
 ],
 "metadata": {
  "kernelspec": {
   "display_name": "Python 3",
   "language": "python",
   "name": "python3"
  },
  "language_info": {
   "codemirror_mode": {
    "name": "ipython",
    "version": 3
   },
   "file_extension": ".py",
   "mimetype": "text/x-python",
   "name": "python",
   "nbconvert_exporter": "python",
   "pygments_lexer": "ipython3",
   "version": "3.12.2"
  }
 },
 "nbformat": 4,
 "nbformat_minor": 2
}
