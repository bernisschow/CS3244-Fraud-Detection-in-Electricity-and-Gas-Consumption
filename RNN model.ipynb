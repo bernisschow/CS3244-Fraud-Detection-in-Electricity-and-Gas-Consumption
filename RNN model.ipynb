{
 "cells": [
  {
   "cell_type": "code",
   "execution_count": 3,
   "metadata": {},
   "outputs": [],
   "source": [
    "import pandas as pd\n",
    "import matplotlib.pyplot as plt\n",
    "import numpy as np\n",
    "from sklearn.model_selection import train_test_split\n",
    "from sklearn.preprocessing import LabelEncoder\n",
    "from sklearn.preprocessing import OneHotEncoder\n",
    "from sklearn.preprocessing import StandardScaler\n",
    "from sklearn.neural_network import MLPClassifier\n",
    "from sklearn.model_selection import GridSearchCV, cross_val_score\n",
    "from sklearn.model_selection import KFold\n",
    "import torch\n",
    "import torch.nn as nn\n",
    "import torch.optim as optim\n",
    "from torch.utils.data import DataLoader, TensorDataset"
   ]
  },
  {
   "cell_type": "code",
   "execution_count": 4,
   "metadata": {},
   "outputs": [],
   "source": [
    "# load client and invoice datasets\n",
    "client_train = pd.read_csv('data/client_train.csv')\n",
    "client_test = pd.read_csv('data/client_test.csv')\n",
    "\n",
    "invoice_train = pd.read_parquet('data/invoice_train_compressed.csv.parquet')\n",
    "invoice_test = pd.read_parquet('data/invoice_test_compressed.csv.parquet')"
   ]
  },
  {
   "cell_type": "code",
   "execution_count": 5,
   "metadata": {},
   "outputs": [],
   "source": [
    "# merge client and invoice training and testing dataset\n",
    "merged_df = pd.merge(invoice_train, client_train, on='client_id', how='inner')\n",
    "\n",
    "merged_test = pd.merge(invoice_test, client_test, on='client_id', how='inner')"
   ]
  },
  {
   "cell_type": "code",
   "execution_count": 6,
   "metadata": {},
   "outputs": [
    {
     "name": "stdout",
     "output_type": "stream",
     "text": [
      "One-hot encoded dataset:\n",
      "        client_id invoice_date  counter_number  counter_code  \\\n",
      "0  train_Client_0   2014-03-24         1335667           203   \n",
      "1  train_Client_0   2013-03-29         1335667           203   \n",
      "2  train_Client_0   2015-03-23         1335667           203   \n",
      "3  train_Client_0   2015-07-13         1335667           207   \n",
      "4  train_Client_0   2016-11-17         1335667           207   \n",
      "\n",
      "   counter_coefficient  consommation_level_1  consommation_level_2  \\\n",
      "0                    1                    82                     0   \n",
      "1                    1                  1200                   184   \n",
      "2                    1                   123                     0   \n",
      "3                    1                   102                     0   \n",
      "4                    1                   572                     0   \n",
      "\n",
      "   consommation_level_3  consommation_level_4  old_index  ...  \\\n",
      "0                     0                     0      14302  ...   \n",
      "1                     0                     0      12294  ...   \n",
      "2                     0                     0      14624  ...   \n",
      "3                     0                     0      14747  ...   \n",
      "4                     0                     0      15066  ...   \n",
      "\n",
      "   counter_statue_769  counter_statue_A reading_remarque_6  \\\n",
      "0               False             False              False   \n",
      "1               False             False               True   \n",
      "2               False             False              False   \n",
      "3               False             False              False   \n",
      "4               False             False              False   \n",
      "\n",
      "   reading_remarque_7  reading_remarque_8  reading_remarque_9  \\\n",
      "0               False                True               False   \n",
      "1               False               False               False   \n",
      "2               False                True               False   \n",
      "3               False                True               False   \n",
      "4               False               False                True   \n",
      "\n",
      "   reading_remarque_203  reading_remarque_207  reading_remarque_413  \\\n",
      "0                 False                 False                 False   \n",
      "1                 False                 False                 False   \n",
      "2                 False                 False                 False   \n",
      "3                 False                 False                 False   \n",
      "4                 False                 False                 False   \n",
      "\n",
      "   counter_type_GAZ  \n",
      "0             False  \n",
      "1             False  \n",
      "2             False  \n",
      "3             False  \n",
      "4             False  \n",
      "\n",
      "[5 rows x 78 columns]\n"
     ]
    }
   ],
   "source": [
    "from sklearn.preprocessing import LabelEncoder\n",
    "\n",
    "# Define the list of categorical columns\n",
    "categorical_columns = ['disrict', 'client_catg', 'region', 'tarif_type', \n",
    "                       'counter_statue', 'reading_remarque', 'counter_type']\n",
    "'''\n",
    "# Apply Label Encoding to each categorical feature\n",
    "label_encoders = {}\n",
    "for col in categorical_columns:\n",
    "    le = LabelEncoder()\n",
    "    merged_df[col] = le.fit_transform(merged_df[col].astype(str))  # Convert to string in case there are mixed types\n",
    "    label_encoders[col] = le  # Store the encoder for potential inverse_transform\n",
    "'''\n",
    "# Apply One-Hot Encoding\n",
    "merged_df = pd.get_dummies(merged_df, columns=categorical_columns, drop_first=True)\n",
    "\n",
    "# Print the first few rows to verify the new one-hot encoded columns\n",
    "print(\"One-hot encoded dataset:\")\n",
    "print(merged_df.head())"
   ]
  },
  {
   "cell_type": "markdown",
   "metadata": {},
   "source": [
    "Fraud detection data contains categorical features (e.g., district, client category). Machine learning models like kNN require numerical inputs so label encoding was used to convert these categorical features into numerical representations without introducing ordinal relationships (since the categories aren't inherently ordered), which ensures that the data can be utilized effectively by the kNN algorithm."
   ]
  },
  {
   "cell_type": "code",
   "execution_count": 7,
   "metadata": {},
   "outputs": [],
   "source": [
    "# Exclude irrelevant columns (like 'client_id', 'invoice_date', etc.) and the target column\n",
    "irrelevant_columns = ['client_id', 'invoice_date', 'creation_date', 'target']\n",
    "features = [col for col in merged_df.columns if col not in irrelevant_columns]"
   ]
  },
  {
   "cell_type": "code",
   "execution_count": 8,
   "metadata": {},
   "outputs": [
    {
     "name": "stdout",
     "output_type": "stream",
     "text": [
      "Number of training instances:  3133724 \n",
      "Number of test instances:  1343025\n"
     ]
    }
   ],
   "source": [
    "from sklearn.model_selection import train_test_split\n",
    "\n",
    "# Partion the features from the class to predict\n",
    "df_X = merged_df[features]\n",
    "df_y = merged_df['target'].astype(int)  # Convert 'target' to integer (1/0)  # Convert 'Fraud'/'Not Fraud' to 1/0\n",
    "\n",
    "# Split the training data into training and testing sets\n",
    "X_train, X_test, y_train, y_test = train_test_split(df_X, df_y, test_size=0.3, random_state=1)\n",
    "\n",
    "print (\"Number of training instances: \", len(X_train), \"\\nNumber of test instances: \", len(X_test))"
   ]
  },
  {
   "cell_type": "code",
   "execution_count": 9,
   "metadata": {},
   "outputs": [],
   "source": [
    "# Feature Scaling\n",
    "scaler = StandardScaler()\n",
    "X_train_scaled = scaler.fit_transform(X_train)\n",
    "X_test_scaled = scaler.transform(X_test)"
   ]
  },
  {
   "cell_type": "markdown",
   "metadata": {},
   "source": [
    "kNN relies on distance metrics (e.g., Euclidean, Manhattan). Features with large scales can dominate the distance calculations. StandardScaler was applied to normalize features to have zero mean and unit variance. Standardization prevents bias due to differing feature scales and improves the accuracy of distance-based methods like kNN."
   ]
  },
  {
   "cell_type": "code",
   "execution_count": 10,
   "metadata": {},
   "outputs": [
    {
     "data": {
      "image/png": "[encoded data removed]",
      "text/plain": [
       "<Figure size 640x480 with 1 Axes>"
      ]
     },
     "metadata": {},
     "output_type": "display_data"
    }
   ],
   "source": [
    "from sklearn.decomposition import PCA\n",
    "import matplotlib.pyplot as plt\n",
    "import numpy as np\n",
    "\n",
    "# Fit PCA on the full dataset or a sample\n",
    "pca = PCA().fit(X_train_scaled)\n",
    "\n",
    "# Calculate cumulative explained variance\n",
    "cumulative_variance = np.cumsum(pca.explained_variance_ratio_)\n",
    "\n",
    "# Plot cumulative explained variance\n",
    "plt.plot(range(1, len(cumulative_variance) + 1), cumulative_variance, marker='o')\n",
    "plt.xlabel('Number of Principal Components')\n",
    "plt.ylabel('Cumulative Explained Variance')\n",
    "plt.title('Explained Variance by Number of Components')\n",
    "plt.axhline(y=0.95, color='r', linestyle='--', label='95% Explained Variance')\n",
    "plt.legend()\n",
    "plt.grid(True)\n",
    "plt.show()"
   ]
  },
  {
   "cell_type": "code",
   "execution_count": 11,
   "metadata": {},
   "outputs": [
    {
     "name": "stdout",
     "output_type": "stream",
     "text": [
      "The optimal number of components to retain 95% variance is: 58\n"
     ]
    }
   ],
   "source": [
    "# Assuming `cumulative_variance` is the array of cumulative explained variance ratios\n",
    "threshold = 0.95  # 95% explained variance\n",
    "optimal_n_components = np.argmax(cumulative_variance >= threshold) + 1  # +1 since indices start at 0\n",
    "\n",
    "print(f\"The optimal number of components to retain 95% variance is: {optimal_n_components}\")"
   ]
  },
  {
   "cell_type": "code",
   "execution_count": 12,
   "metadata": {},
   "outputs": [
    {
     "name": "stdout",
     "output_type": "stream",
     "text": [
      "Number of PCA components: 58\n"
     ]
    }
   ],
   "source": [
    "# Apply PCA with a fixed number of components \n",
    "pca = PCA(n_components=58, random_state=1)\n",
    "X_train_pca = pca.fit_transform(X_train_scaled)\n",
    "X_test_pca = pca.transform(X_test_scaled)\n",
    "\n",
    "print(f\"Number of PCA components: {X_train_pca.shape[1]}\")"
   ]
  },
  {
   "cell_type": "markdown",
   "metadata": {},
   "source": [
    "High-dimensional data can cause the \"curse of dimensionality,\" making distances less meaningful and increasing computational complexity.\n",
    "PCA reduces the dimensionality while retaining 95% of the variance in the data. Reducing the number of features improves kNN's runtime efficiency without significantly sacrificing predictive performance. PCA also helps in identifying latent patterns and makes the data more compact, aiding in better model performance."
   ]
  },
  {
   "cell_type": "code",
   "execution_count": 13,
   "metadata": {},
   "outputs": [
    {
     "name": "stdout",
     "output_type": "stream",
     "text": [
      "Number of training instances: \n",
      "3133724\n",
      "Class distribution in the training set:\n",
      "target\n",
      "0    0.92107\n",
      "1    0.07893\n",
      "Name: proportion, dtype: float64\n"
     ]
    }
   ],
   "source": [
    "# Check the class distribution in the training set\n",
    "print(\"Number of training instances: \")\n",
    "print(len(X_train_pca))\n",
    "\n",
    "class_distribution = y_train.value_counts(normalize=True)\n",
    "\n",
    "print(\"Class distribution in the training set:\")\n",
    "print(class_distribution)\n"
   ]
  },
  {
   "cell_type": "code",
   "execution_count": 14,
   "metadata": {},
   "outputs": [
    {
     "name": "stderr",
     "output_type": "stream",
     "text": [
      "/Users/Berniss/Downloads/CS3244/CS3244-Fraud-Detection-in-Electricity-and-Gas-Consumption/.venv/lib/python3.12/site-packages/threadpoolctl.py:1214: RuntimeWarning: \n",
      "Found Intel OpenMP ('libiomp') and LLVM OpenMP ('libomp') loaded at\n",
      "the same time. Both libraries are known to be incompatible and this\n",
      "can cause random crashes or deadlocks on Linux when loaded in the\n",
      "same Python program.\n",
      "Using threadpoolctl may cause crashes or deadlocks. For more\n",
      "information and possible workarounds, please see\n",
      "    https://github.com/joblib/threadpoolctl/blob/master/multiple_openmp.md\n",
      "\n",
      "  warnings.warn(msg, RuntimeWarning)\n"
     ]
    },
    {
     "name": "stdout",
     "output_type": "stream",
     "text": [
      "Number of training instances after SMOTE: \n",
      "5772760\n",
      "Class distribution in resampled training set:\n",
      "target\n",
      "0    0.5\n",
      "1    0.5\n",
      "Name: proportion, dtype: float64\n"
     ]
    }
   ],
   "source": [
    "from imblearn.over_sampling import SMOTE\n",
    "\n",
    "# Apply SMOTE to the training data\n",
    "smote = SMOTE(random_state=1)\n",
    "X_train_resampled, y_train_resampled = smote.fit_resample(X_train_pca, y_train)\n",
    "\n",
    "print(\"Number of training instances after SMOTE: \")\n",
    "print(len(X_train_resampled))\n",
    "\n",
    "print(\"Class distribution in resampled training set:\")\n",
    "print(y_train_resampled.value_counts(normalize=True))"
   ]
  },
  {
   "cell_type": "code",
   "execution_count": 15,
   "metadata": {},
   "outputs": [],
   "source": [
    "# Reshape data for RNN input (samples, time steps, features)\n",
    "X_train_rnn = np.reshape(X_train_resampled, (X_train_resampled.shape[0], 1, X_train_resampled.shape[1]))\n",
    "X_test_rnn = np.reshape(X_test_scaled, (X_test_scaled.shape[0], 1, X_test_scaled.shape[1]))"
   ]
  },
  {
   "cell_type": "code",
   "execution_count": 16,
   "metadata": {},
   "outputs": [],
   "source": [
    "import tensorflow as tf\n",
    "from tensorflow.keras.models import Sequential\n",
    "from tensorflow.keras.layers import Dense, LSTM, Dropout"
   ]
  },
  {
   "cell_type": "code",
   "execution_count": 17,
   "metadata": {},
   "outputs": [
    {
     "name": "stderr",
     "output_type": "stream",
     "text": [
      "/Users/Berniss/Downloads/CS3244/CS3244-Fraud-Detection-in-Electricity-and-Gas-Consumption/.venv/lib/python3.12/site-packages/keras/src/layers/rnn/rnn.py:204: UserWarning: Do not pass an `input_shape`/`input_dim` argument to a layer. When using Sequential models, prefer using an `Input(shape)` object as the first layer in the model instead.\n",
      "  super().__init__(**kwargs)\n"
     ]
    }
   ],
   "source": [
    "model = Sequential([\n",
    "    LSTM(128, input_shape=(X_train_rnn.shape[1], X_train_rnn.shape[2]), activation='relu', return_sequences=True),\n",
    "    Dropout(0.2),\n",
    "    LSTM(64, activation='relu'),\n",
    "    Dropout(0.2),\n",
    "    Dense(32, activation='relu'),\n",
    "    Dense(1, activation='sigmoid')  # Binary classification\n",
    "])\n",
    "\n",
    "# Compile the model\n",
    "model.compile(optimizer='adam', loss='binary_crossentropy', metrics=['accuracy'])"
   ]
  },
  {
   "cell_type": "code",
   "execution_count": 19,
   "metadata": {},
   "outputs": [
    {
     "name": "stdout",
     "output_type": "stream",
     "text": [
      "Epoch 1/5\n",
      "\u001b[1m36080/36080\u001b[0m \u001b[32m━━━━━━━━━━━━━━━━━━━━\u001b[0m\u001b[37m\u001b[0m \u001b[1m251s\u001b[0m 7ms/step - accuracy: 0.6666 - loss: 0.6096 - val_accuracy: 0.2961 - val_loss: 0.8892\n",
      "Epoch 2/5\n",
      "\u001b[1m36080/36080\u001b[0m \u001b[32m━━━━━━━━━━━━━━━━━━━━\u001b[0m\u001b[37m\u001b[0m \u001b[1m296s\u001b[0m 8ms/step - accuracy: 0.6674 - loss: 0.6084 - val_accuracy: 0.2865 - val_loss: 0.8783\n",
      "Epoch 3/5\n",
      "\u001b[1m36080/36080\u001b[0m \u001b[32m━━━━━━━━━━━━━━━━━━━━\u001b[0m\u001b[37m\u001b[0m \u001b[1m292s\u001b[0m 8ms/step - accuracy: 0.6683 - loss: 0.6075 - val_accuracy: 0.3214 - val_loss: 0.8791\n",
      "Epoch 4/5\n",
      "\u001b[1m36080/36080\u001b[0m \u001b[32m━━━━━━━━━━━━━━━━━━━━\u001b[0m\u001b[37m\u001b[0m \u001b[1m257s\u001b[0m 7ms/step - accuracy: 0.6689 - loss: 0.6065 - val_accuracy: 0.3151 - val_loss: 0.8717\n",
      "Epoch 5/5\n",
      "\u001b[1m36080/36080\u001b[0m \u001b[32m━━━━━━━━━━━━━━━━━━━━\u001b[0m\u001b[37m\u001b[0m \u001b[1m237s\u001b[0m 7ms/step - accuracy: 0.6695 - loss: 0.6058 - val_accuracy: 0.3546 - val_loss: 0.8459\n"
     ]
    }
   ],
   "source": [
    "# Train the model\n",
    "history = model.fit(\n",
    "    X_train_rnn, y_train_resampled,\n",
    "    validation_split=0.2,\n",
    "    epochs=5,\n",
    "    batch_size=128,\n",
    "    verbose=1\n",
    ")"
   ]
  },
  {
   "cell_type": "code",
   "execution_count": 24,
   "metadata": {},
   "outputs": [
    {
     "name": "stdout",
     "output_type": "stream",
     "text": [
      "Shapes after reshaping:\n",
      "X_train_rnn shape: (5772760, 1, 58)\n",
      "X_test_rnn shape: (1343025, 1, 58)\n"
     ]
    }
   ],
   "source": [
    "# Apply PCA to the test set after fitting it on the training set\n",
    "X_test_pca = pca.transform(X_test_scaled)\n",
    "\n",
    "# Reshape PCA-transformed data for the LSTM model\n",
    "X_train_rnn = np.reshape(X_train_resampled, (X_train_resampled.shape[0], 1, X_train_resampled.shape[1]))\n",
    "X_test_rnn = np.reshape(X_test_pca, (X_test_pca.shape[0], 1, X_test_pca.shape[1]))\n",
    "\n",
    "print(\"Shapes after reshaping:\")\n",
    "print(\"X_train_rnn shape:\", X_train_rnn.shape)\n",
    "print(\"X_test_rnn shape:\", X_test_rnn.shape)"
   ]
  },
  {
   "cell_type": "code",
   "execution_count": 25,
   "metadata": {},
   "outputs": [
    {
     "name": "stdout",
     "output_type": "stream",
     "text": [
      "\u001b[1m41970/41970\u001b[0m \u001b[32m━━━━━━━━━━━━━━━━━━━━\u001b[0m\u001b[37m\u001b[0m \u001b[1m75s\u001b[0m 2ms/step\n",
      "Confusion Matrix:\n",
      " [[1068719  168538]\n",
      " [  68905   36863]]\n",
      "\n",
      "Classification Report:\n",
      "               precision    recall  f1-score   support\n",
      "\n",
      "           0       0.94      0.86      0.90   1237257\n",
      "           1       0.18      0.35      0.24    105768\n",
      "\n",
      "    accuracy                           0.82   1343025\n",
      "   macro avg       0.56      0.61      0.57   1343025\n",
      "weighted avg       0.88      0.82      0.85   1343025\n",
      "\n"
     ]
    }
   ],
   "source": [
    "from sklearn.metrics import classification_report, confusion_matrix\n",
    "\n",
    "# Evaluate the model\n",
    "y_pred = (model.predict(X_test_rnn) > 0.5).astype(int)\n",
    "print(\"Confusion Matrix:\\n\", confusion_matrix(y_test, y_pred))\n",
    "print(\"\\nClassification Report:\\n\", classification_report(y_test, y_pred))"
   ]
  },
  {
   "cell_type": "code",
   "execution_count": 26,
   "metadata": {},
   "outputs": [
    {
     "data": {
      "image/png": "[encoded data removed]",
      "text/plain": [
       "<Figure size 1000x600 with 1 Axes>"
      ]
     },
     "metadata": {},
     "output_type": "display_data"
    }
   ],
   "source": [
    "import matplotlib.pyplot as plt\n",
    "plt.figure(figsize=(10, 6))\n",
    "plt.plot(history.history['loss'], label='Training Loss')\n",
    "plt.plot(history.history['val_loss'], label='Validation Loss')\n",
    "plt.title('Model Loss Over Epochs')\n",
    "plt.xlabel('Epochs')\n",
    "plt.ylabel('Loss')\n",
    "plt.legend()\n",
    "plt.show()"
   ]
  },
  {
   "cell_type": "code",
   "execution_count": null,
   "metadata": {},
   "outputs": [],
   "source": [
    "data = pd.read_csv('output.csv')"
   ]
  },
  {
   "cell_type": "code",
   "execution_count": null,
   "metadata": {},
   "outputs": [],
   "source": [
    "mapping = {\n",
    "    0:0,\n",
    "    1:1,\n",
    "    5:5,\n",
    "    4:4,\n",
    "    3:3,\n",
    "    2:2,\n",
    "    769:5,\n",
    "    '0':0,\n",
    "    '5':5,\n",
    "    '1':1,\n",
    "    '4':4,\n",
    "    'A':0,\n",
    "    618:5,\n",
    "    269375:5,\n",
    "    46:5,\n",
    "    420:5\n",
    "}\n",
    "\n",
    "data['counter_statue'] = data['counter_statue'].replace(mapping)\n",
    "data['counter_statue'].unique()"
   ]
  },
  {
   "cell_type": "code",
   "execution_count": null,
   "metadata": {},
   "outputs": [],
   "source": [
    "mapping_2 = {\n",
    "    'ELEC':0,\n",
    "    'GAZ':1,\n",
    "}\n",
    "\n",
    "data['counter_type'] = data['counter_type'].replace(mapping_2)\n",
    "data['counter_type'].unique()"
   ]
  },
  {
   "cell_type": "code",
   "execution_count": null,
   "metadata": {},
   "outputs": [],
   "source": [
    "data['creation_date'] = pd.to_datetime(data['creation_date'])\n",
    "data['invoice_date'] = pd.to_datetime(data['invoice_date'])"
   ]
  },
  {
   "cell_type": "code",
   "execution_count": null,
   "metadata": {},
   "outputs": [],
   "source": [
    "non_ordinal_categorical = ['disrict', 'client_catg',\n",
    "                            'region', 'tarif_type', \n",
    "                            'counter_statue', 'counter_code', \n",
    "                            'reading_remarque', 'counter_type',\n",
    "                            'counter_coefficient']\n",
    "\n",
    "data = pd.get_dummies(data, columns=non_ordinal_categorical)"
   ]
  },
  {
   "cell_type": "code",
   "execution_count": null,
   "metadata": {},
   "outputs": [],
   "source": [
    "ordinal_categorical = ['counter_number', 'new_index', 'months_number']\n",
    "\n",
    "for col in ordinal_categorical:\n",
    "    counts = data[col].value_counts()\n",
    "    print(counts)"
   ]
  },
  {
   "cell_type": "code",
   "execution_count": null,
   "metadata": {},
   "outputs": [],
   "source": [
    "continuous_features = ['consommation_level_1', 'consommation_level_2',\n",
    "                       'consommation_level_3', 'consommation_level_4',\n",
    "                       'creation_date_year', 'creation_date_month',\n",
    "                       'creation_date_day', 'invoice_date_year',\n",
    "                       'invoice_date_month', 'invoice_date_day']\n",
    "\n",
    "scaler = StandardScaler()\n",
    "data[continuous_features] = scaler.fit_transform(data[continuous_features])\n",
    "data[continuous_features]"
   ]
  },
  {
   "cell_type": "code",
   "execution_count": null,
   "metadata": {},
   "outputs": [],
   "source": [
    "data.drop(columns='client_id', inplace=True)"
   ]
  },
  {
   "cell_type": "code",
   "execution_count": null,
   "metadata": {},
   "outputs": [],
   "source": [
    "data['days_between_creation_and_invoice'] = (data['invoice_date'] - data['creation_date']).dt.days\n",
    "data['days_since_last_invoice'] = data['invoice_date'].diff().dt.days.fillna(0)"
   ]
  },
  {
   "cell_type": "code",
   "execution_count": null,
   "metadata": {},
   "outputs": [],
   "source": [
    "data.drop(columns=[\n",
    "    'invoice_date', 'creation_date'\n",
    "], inplace=True)"
   ]
  },
  {
   "cell_type": "code",
   "execution_count": null,
   "metadata": {},
   "outputs": [],
   "source": [
    "seq_features = ['days_since_last_invoice', 'days_between_creation_and_invoice']\n",
    "static_features = [col for col in data.columns if col not in seq_features + ['target']]\n",
    "\n",
    "sequential_data = data[seq_features].values.reshape(-1, 1, len(seq_features))  # Sequential data\n",
    "static_data = data[static_features].values  # Static data\n",
    "labels = data['target'].values  # Target variable"
   ]
  },
  {
   "cell_type": "code",
   "execution_count": null,
   "metadata": {},
   "outputs": [],
   "source": [
    "sequential_data = torch.tensor(sequential_data, dtype=torch.float32)\n",
    "static_data = torch.tensor(static_data, dtype=torch.float32)\n",
    "labels = torch.tensor(labels, dtype=torch.long)"
   ]
  },
  {
   "cell_type": "code",
   "execution_count": null,
   "metadata": {},
   "outputs": [],
   "source": [
    "dataset = TensorDataset(sequential_data, static_data, labels)\n",
    "dataloader = DataLoader(dataset, batch_size=32, shuffle=True)"
   ]
  },
  {
   "cell_type": "code",
   "execution_count": null,
   "metadata": {},
   "outputs": [],
   "source": [
    "class FraudRNN(nn.Module):\n",
    "    def __init__(self, seq_input_size, seq_hidden_size, static_input_size, output_size):\n",
    "        super(FraudRNN, self).__init__()\n",
    "        \n",
    "        # Sequential branch (RNN)\n",
    "        self.rnn = nn.LSTM(seq_input_size, seq_hidden_size, batch_first=True)\n",
    "        self.rnn_fc = nn.Linear(seq_hidden_size, 16)\n",
    "        \n",
    "        # Static branch (Dense layers)\n",
    "        self.fc_static = nn.Sequential(\n",
    "            nn.Linear(static_input_size, 32),\n",
    "            nn.ReLU()\n",
    "        )\n",
    "        \n",
    "        # Combined layers\n",
    "        self.fc_combined = nn.Sequential(\n",
    "            nn.Linear(16 + 32, 64),\n",
    "            nn.ReLU(),\n",
    "            nn.Linear(64, output_size)\n",
    "        )\n",
    "    \n",
    "    def forward(self, seq_x, static_x):\n",
    "        # RNN branch\n",
    "        rnn_out, (hidden, _) = self.rnn(seq_x)\n",
    "        rnn_out = self.rnn_fc(hidden[-1])  # Last hidden state\n",
    "        \n",
    "        # Static branch\n",
    "        static_out = self.fc_static(static_x)\n",
    "        \n",
    "        # Combine outputs\n",
    "        combined = torch.cat((rnn_out, static_out), dim=1)\n",
    "        output = self.fc_combined(combined)\n",
    "        return output"
   ]
  },
  {
   "cell_type": "code",
   "execution_count": null,
   "metadata": {},
   "outputs": [],
   "source": [
    "# Initialize model, loss, and optimizer\n",
    "seq_input_size = 1  # Sequential features\n",
    "seq_hidden_size = 64  # Hidden size of RNN\n",
    "static_input_size = len(static_features)\n",
    "output_size = 2  # Binary classification\n",
    "\n",
    "model = FraudRNN(seq_input_size, seq_hidden_size, static_input_size, output_size)\n",
    "criterion = nn.CrossEntropyLoss()\n",
    "optimizer = torch.optim.Adam(model.parameters(), lr=0.001)\n",
    "\n",
    "# Training Loop\n",
    "for epoch in range(10):  # Number of epochs\n",
    "    model.train()\n",
    "    running_loss = 0.0\n",
    "    \n",
    "    for seq_inputs, static_inputs, labels in dataloader:\n",
    "        optimizer.zero_grad()\n",
    "        outputs = model(seq_inputs, static_inputs)\n",
    "        loss = criterion(outputs, labels)\n",
    "        loss.backward()\n",
    "        optimizer.step()\n",
    "        running_loss += loss.item()\n",
    "    \n",
    "    print(f\"Epoch [{epoch+1}/10], Loss: {running_loss/len(dataloader):.4f}\")"
   ]
  },
  {
   "cell_type": "code",
   "execution_count": null,
   "metadata": {},
   "outputs": [],
   "source": [
    "# Initialize model, loss, and optimizer\n",
    "seq_input_size = 1  # Sequential features\n",
    "seq_hidden_size = 64  # Hidden size of RNN\n",
    "static_input_size = len(static_features)\n",
    "output_size = 2  # Binary classification\n",
    "\n",
    "model = FraudRNN(seq_input_size, seq_hidden_size, static_input_size, output_size)\n",
    "criterion = nn.CrossEntropyLoss()\n",
    "optimizer = torch.optim.Adam(model.parameters(), lr=0.001)\n",
    "\n",
    "# Training Loop\n",
    "for epoch in range(10):  # Number of epochs\n",
    "    model.train()\n",
    "    running_loss = 0.0\n",
    "    \n",
    "    for seq_inputs, static_inputs, labels in dataloader:\n",
    "        optimizer.zero_grad()\n",
    "        outputs = model(seq_inputs, static_inputs)\n",
    "        loss = criterion(outputs, labels)\n",
    "        loss.backward()\n",
    "        optimizer.step()\n",
    "        running_loss += loss.item()\n",
    "    \n",
    "    print(f\"Epoch [{epoch+1}/10], Loss: {running_loss/len(dataloader):.4f}\")"
   ]
  }
 ],
 "metadata": {
  "kernelspec": {
   "display_name": ".venv",
   "language": "python",
   "name": "python3"
  },
  "language_info": {
   "codemirror_mode": {
    "name": "ipython",
    "version": 3
   },
   "file_extension": ".py",
   "mimetype": "text/x-python",
   "name": "python",
   "nbconvert_exporter": "python",
   "pygments_lexer": "ipython3",
   "version": "3.12.2"
  }
 },
 "nbformat": 4,
 "nbformat_minor": 2
}
