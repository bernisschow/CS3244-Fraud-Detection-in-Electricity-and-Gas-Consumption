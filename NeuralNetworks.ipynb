{
 "cells": [
  {
   "cell_type": "markdown",
   "metadata": {},
   "source": [
    "# CS3244 Project Neural Networks\n",
    "\n",
    "This file will contain the code for the neural network model that is being used for our project. In this code, we will be approaching it using a two types of models:\n",
    "\n",
    "1. MLP\n",
    "2. RNN (LSTM)\n",
    "\n",
    "We will follow this breakdown of sequencing in how we approach the problem using neural networks."
   ]
  },
  {
   "cell_type": "markdown",
   "metadata": {},
   "source": [
    "## Importing datasets and packages\n",
    "\n",
    "We will begin with importing all relevant datasets and packages needed in order to create our model."
   ]
  },
  {
   "cell_type": "markdown",
   "metadata": {},
   "source": [
    "### Importing packages"
   ]
  },
  {
   "cell_type": "code",
   "execution_count": 1,
   "metadata": {},
   "outputs": [],
   "source": [
    "import pandas as pd\n",
    "import matplotlib.pyplot as plt\n",
    "import numpy as np\n",
    "from sklearn.model_selection import train_test_split\n",
    "from sklearn.preprocessing import LabelEncoder\n",
    "from sklearn.preprocessing import OneHotEncoder\n",
    "from sklearn.preprocessing import StandardScaler\n",
    "from sklearn.neural_network import MLPRegressor\n",
    "from sklearn.model_selection import GridSearchCV, cross_val_score\n",
    "from sklearn.model_selection import KFold\n",
    "import torch\n",
    "import torch.nn as nn\n",
    "import torch.optim as optim\n",
    "from torch.utils.data import DataLoader, Dataset\n",
    "from sklearn.metrics import classification_report, accuracy_score\n",
    "\n",
    "import optuna\n",
    "from sklearn.preprocessing import StandardScaler, OneHotEncoder\n",
    "from sklearn.decomposition import PCA\n",
    "from sklearn.compose import ColumnTransformer\n",
    "from sklearn.pipeline import Pipeline\n",
    "from sklearn.impute import SimpleImputer"
   ]
  },
  {
   "cell_type": "markdown",
   "metadata": {},
   "source": [
    "### Importing datasets"
   ]
  },
  {
   "cell_type": "markdown",
   "metadata": {},
   "source": [
    "#### MLP datasets"
   ]
  },
  {
   "cell_type": "code",
   "execution_count": 2,
   "metadata": {},
   "outputs": [],
   "source": [
    "fold1 = pd.read_csv('/Users/Berniss/Downloads/CS3244/CS3244-Fraud-Detection-in-Electricity-and-Gas-Consumption/finalised_datasets/smote_train_data/fold_1.csv')\n",
    "fold2 = pd.read_csv('/Users/Berniss/Downloads/CS3244/CS3244-Fraud-Detection-in-Electricity-and-Gas-Consumption/finalised_datasets/smote_train_data/fold_2.csv')\n",
    "fold3 = pd.read_csv('/Users/Berniss/Downloads/CS3244/CS3244-Fraud-Detection-in-Electricity-and-Gas-Consumption/finalised_datasets/smote_train_data/fold_3.csv')\n",
    "fold4 = pd.read_csv('/Users/Berniss/Downloads/CS3244/CS3244-Fraud-Detection-in-Electricity-and-Gas-Consumption/finalised_datasets/smote_train_data/fold_4.csv')\n",
    "fold5 = pd.read_csv('/Users/Berniss/Downloads/CS3244/CS3244-Fraud-Detection-in-Electricity-and-Gas-Consumption/finalised_datasets/smote_train_data/fold_5.csv')\n",
    "\n",
    "smote_fold_1 = pd.read_csv('/Users/Berniss/Downloads/CS3244/CS3244-Fraud-Detection-in-Electricity-and-Gas-Consumption/finalised_datasets/smote_train_data/smote_fold_1.csv')\n",
    "smote_fold_2 = pd.read_csv('/Users/Berniss/Downloads/CS3244/CS3244-Fraud-Detection-in-Electricity-and-Gas-Consumption/finalised_datasets/smote_train_data/smote_fold_2.csv')\n",
    "smote_fold_3 = pd.read_csv('/Users/Berniss/Downloads/CS3244/CS3244-Fraud-Detection-in-Electricity-and-Gas-Consumption/finalised_datasets/smote_train_data/smote_fold_3.csv')\n",
    "smote_fold_4 = pd.read_csv('/Users/Berniss/Downloads/CS3244/CS3244-Fraud-Detection-in-Electricity-and-Gas-Consumption/finalised_datasets/smote_train_data/smote_fold_4.csv')\n",
    "smote_fold_5 = pd.read_csv('/Users/Berniss/Downloads/CS3244/CS3244-Fraud-Detection-in-Electricity-and-Gas-Consumption/finalised_datasets/smote_train_data/smote_fold_5.csv')"
   ]
  },
  {
   "cell_type": "code",
   "execution_count": 3,
   "metadata": {},
   "outputs": [],
   "source": [
    "test_df = pd.read_csv('/Users/Berniss/Downloads/CS3244/CS3244-Fraud-Detection-in-Electricity-and-Gas-Consumption/finalised_datasets/transformed_data/test_set.csv')\n",
    "\n",
    "X_test = test_df.drop(columns=['fraud_status'])\n",
    "y_test = test_df['fraud_status']"
   ]
  },
  {
   "cell_type": "markdown",
   "metadata": {},
   "source": [
    "#### RNN datasets"
   ]
  },
  {
   "cell_type": "code",
   "execution_count": 4,
   "metadata": {},
   "outputs": [],
   "source": [
    "#invoice = pd.read_csv('cleaned_invoice_train.csv')\n",
    "#client = pd.read_csv('cleaned_client_train.csv')"
   ]
  },
  {
   "cell_type": "markdown",
   "metadata": {},
   "source": [
    "## MLP model\n",
    "\n",
    "The MLP model is a simple feed-forward neural network model. It will use the universally used aggregated dataset that we have used for all other models. We have decided to use an MLP model as it is the best neural network model when it comes to working with our aggregated dataset. This is because RNNs work with sequential data, which the aggregated dataset does not have, and CNN works best for matrix data (images), which again we do not have.\n",
    "\n",
    "We will proceed with this flow:\n",
    "1. Feature engineering for MLP\n",
    "2. Model MLP\n",
    "3. Evaluate MLP"
   ]
  },
  {
   "cell_type": "markdown",
   "metadata": {},
   "source": [
    "### Feature Engineering for MLP\n",
    "\n",
    "We will begin with feature engineering that is specific to the MLP model. This is because neural networks require specific altercations to the data for it to function effectively."
   ]
  },
  {
   "cell_type": "code",
   "execution_count": 5,
   "metadata": {},
   "outputs": [],
   "source": [
    "X_smoted_1 = smote_fold_1.drop(columns='fraud_status')\n",
    "y_smoted_1 = smote_fold_1['fraud_status']\n",
    "X_smoted_2 = smote_fold_2.drop(columns='fraud_status')\n",
    "y_smoted_2 = smote_fold_2['fraud_status']\n",
    "X_smoted_3 = smote_fold_3.drop(columns='fraud_status')\n",
    "y_smoted_3 = smote_fold_3['fraud_status']\n",
    "X_smoted_4 = smote_fold_4.drop(columns='fraud_status')\n",
    "y_smoted_4 = smote_fold_4['fraud_status']\n",
    "X_smoted_5 = smote_fold_5.drop(columns='fraud_status')\n",
    "y_smoted_5 = smote_fold_5['fraud_status']\n",
    "smoted_folds = [(X_smoted_1, y_smoted_1), (X_smoted_2, y_smoted_2), (X_smoted_3, y_smoted_3), (X_smoted_4, y_smoted_4), (X_smoted_5, y_smoted_5)]\n",
    "\n",
    "X_fold_1 = fold1.drop(columns='fraud_status')\n",
    "y_fold_1 = fold1['fraud_status']\n",
    "X_fold_2 = fold2.drop(columns='fraud_status')\n",
    "y_fold_2 = fold2['fraud_status']\n",
    "X_fold_3 = fold3.drop(columns='fraud_status')\n",
    "y_fold_3 = fold3['fraud_status']\n",
    "X_fold_4 = fold4.drop(columns='fraud_status')\n",
    "y_fold_4 = fold4['fraud_status']\n",
    "X_fold_5 = fold5.drop(columns='fraud_status')\n",
    "y_fold_5 = fold5['fraud_status']\n",
    "folds = [(X_fold_1, y_fold_1), (X_fold_2, y_fold_2), (X_fold_3, y_fold_3), (X_fold_4, y_fold_4), (X_fold_5, y_fold_5)]"
   ]
  },
  {
   "cell_type": "code",
   "execution_count": 6,
   "metadata": {},
   "outputs": [],
   "source": [
    "scaler = StandardScaler()\n",
    "\n",
    "# Fit the scaler on the entire training data (folds[0][0])\n",
    "scaler.fit(folds[0][0])\n",
    "\n",
    "# Modify the sample_fold function to scale the input data\n",
    "def sample_fold(X, y, sample_fraction=0.1):\n",
    "    sample_size = int(len(X) * sample_fraction)\n",
    "    sample_indices = np.random.choice(len(X), sample_size, replace=False)\n",
    "    X_sample = scaler.transform(X.iloc[sample_indices])  # Scale X_sample\n",
    "    return pd.DataFrame(X_sample, columns=X.columns), y.iloc[sample_indices]\n",
    "\n",
    "# Take 50% samples of each original and SMOTEd fold (and apply scaling)\n",
    "sampled_folds = [sample_fold(X, y) for X, y in folds]\n",
    "sampled_smoted_folds = [sample_fold(X, y) for X, y in smoted_folds]"
   ]
  },
  {
   "cell_type": "code",
   "execution_count": 7,
   "metadata": {},
   "outputs": [
    {
     "name": "stderr",
     "output_type": "stream",
     "text": [
      "[I 2024-11-30 01:27:41,075] A new study created in memory with name: no-name-41b24d42-5cad-4298-a9e9-1a69cedce441\n"
     ]
    },
    {
     "data": {
      "application/vnd.jupyter.widget-view+json": {
       "model_id": "dc07a17308a141e5aa0c74c383e73ef5",
       "version_major": 2,
       "version_minor": 0
      },
      "text/plain": [
       "  0%|          | 0/30 [00:00<?, ?it/s]"
      ]
     },
     "metadata": {},
     "output_type": "display_data"
    },
    {
     "name": "stdout",
     "output_type": "stream",
     "text": [
      "[I 2024-11-30 01:29:40,616] Trial 7 finished with value: 0.9176274907372832 and parameters: {'hidden_layer_sizes': '50', 'activation': 'relu', 'solver': 'sgd', 'learning_rate_init': 0.0033283292229780484, 'alpha': 2.0700494015132572e-05}. Best is trial 7 with value: 0.9176274907372832.\n",
      "[I 2024-11-30 01:30:09,644] Trial 4 finished with value: 0.9213355718336198 and parameters: {'hidden_layer_sizes': '100', 'activation': 'relu', 'solver': 'sgd', 'learning_rate_init': 0.006208294927077995, 'alpha': 0.0019107398027201213}. Best is trial 4 with value: 0.9213355718336198.\n",
      "[I 2024-11-30 01:30:22,516] Trial 6 finished with value: 0.9171788141174005 and parameters: {'hidden_layer_sizes': '50', 'activation': 'tanh', 'solver': 'sgd', 'learning_rate_init': 0.005285155350671563, 'alpha': 9.97859735793636e-05}. Best is trial 4 with value: 0.9213355718336198.\n",
      "[I 2024-11-30 01:31:03,320] Trial 5 finished with value: 0.9181835172038353 and parameters: {'hidden_layer_sizes': '100_100_50', 'activation': 'relu', 'solver': 'adam', 'learning_rate_init': 0.008043834176646138, 'alpha': 5.566110432880158e-05}. Best is trial 4 with value: 0.9213355718336198.\n",
      "[I 2024-11-30 01:31:25,740] Trial 2 finished with value: 0.9120321367325559 and parameters: {'hidden_layer_sizes': '50', 'activation': 'tanh', 'solver': 'sgd', 'learning_rate_init': 0.000556522565801786, 'alpha': 1.3906040971552113e-05}. Best is trial 4 with value: 0.9213355718336198.\n",
      "[I 2024-11-30 01:31:26,677] Trial 0 finished with value: 0.9201558390486502 and parameters: {'hidden_layer_sizes': '100_50', 'activation': 'logistic', 'solver': 'adam', 'learning_rate_init': 0.00611291336130399, 'alpha': 0.0002313443160020182}. Best is trial 4 with value: 0.9213355718336198.\n",
      "[I 2024-11-30 01:31:31,966] Trial 3 finished with value: 0.9199295093278806 and parameters: {'hidden_layer_sizes': '100_50', 'activation': 'relu', 'solver': 'adam', 'learning_rate_init': 0.0005336196661730591, 'alpha': 0.00010879975090983563}. Best is trial 4 with value: 0.9213355718336198.\n",
      "[I 2024-11-30 01:32:23,813] Trial 8 finished with value: 0.9203131735798878 and parameters: {'hidden_layer_sizes': '100_50', 'activation': 'logistic', 'solver': 'adam', 'learning_rate_init': 0.008662600937504072, 'alpha': 0.0020992859581053526}. Best is trial 4 with value: 0.9213355718336198.\n",
      "[I 2024-11-30 01:32:45,527] Trial 1 finished with value: 0.9121410402671085 and parameters: {'hidden_layer_sizes': '100_100_50', 'activation': 'logistic', 'solver': 'adam', 'learning_rate_init': 0.00028084773694545093, 'alpha': 2.775624317636596e-05}. Best is trial 4 with value: 0.9213355718336198.\n",
      "[I 2024-11-30 01:32:46,916] Trial 14 finished with value: 0.9148810003410043 and parameters: {'hidden_layer_sizes': '50', 'activation': 'relu', 'solver': 'adam', 'learning_rate_init': 0.006228677754540873, 'alpha': 0.00014547623926871133}. Best is trial 4 with value: 0.9213355718336198.\n",
      "[I 2024-11-30 01:33:00,605] Trial 13 finished with value: 0.91596561324856 and parameters: {'hidden_layer_sizes': '50', 'activation': 'tanh', 'solver': 'adam', 'learning_rate_init': 0.006034580263398764, 'alpha': 2.536038625191995e-05}. Best is trial 4 with value: 0.9213355718336198.\n",
      "[I 2024-11-30 01:33:11,573] Trial 11 finished with value: 0.9157086537611582 and parameters: {'hidden_layer_sizes': '50', 'activation': 'relu', 'solver': 'sgd', 'learning_rate_init': 0.0014133109682118287, 'alpha': 2.0150699312674417e-05}. Best is trial 4 with value: 0.9213355718336198.\n",
      "[I 2024-11-30 01:34:09,503] Trial 12 finished with value: 0.9170965390678136 and parameters: {'hidden_layer_sizes': '100_50', 'activation': 'relu', 'solver': 'adam', 'learning_rate_init': 0.00594456135055947, 'alpha': 0.003800033076211521}. Best is trial 4 with value: 0.9213355718336198.\n",
      "[I 2024-11-30 01:34:33,983] Trial 15 finished with value: 0.9110913862980841 and parameters: {'hidden_layer_sizes': '50', 'activation': 'logistic', 'solver': 'adam', 'learning_rate_init': 0.00027817085273822053, 'alpha': 4.840413294599574e-05}. Best is trial 4 with value: 0.9213355718336198.\n",
      "[I 2024-11-30 01:34:35,855] Trial 9 finished with value: 0.9205942900656583 and parameters: {'hidden_layer_sizes': '100_50', 'activation': 'relu', 'solver': 'sgd', 'learning_rate_init': 0.001988784239845334, 'alpha': 0.00025649339537953125}. Best is trial 4 with value: 0.9213355718336198.\n",
      "[I 2024-11-30 01:34:44,644] Trial 10 finished with value: 0.7358373416836173 and parameters: {'hidden_layer_sizes': '100_50', 'activation': 'logistic', 'solver': 'sgd', 'learning_rate_init': 0.00047787752140741803, 'alpha': 0.00011996414207925517}. Best is trial 4 with value: 0.9213355718336198.\n",
      "[I 2024-11-30 01:35:00,390] Trial 17 finished with value: 0.9177893156035859 and parameters: {'hidden_layer_sizes': '100', 'activation': 'relu', 'solver': 'sgd', 'learning_rate_init': 0.0016670791464041311, 'alpha': 0.009889187198693422}. Best is trial 4 with value: 0.9213355718336198.\n",
      "[I 2024-11-30 01:36:43,036] Trial 19 finished with value: 0.9116611092874904 and parameters: {'hidden_layer_sizes': '100', 'activation': 'logistic', 'solver': 'sgd', 'learning_rate_init': 0.001968293916417788, 'alpha': 0.0026869178035717816}. Best is trial 4 with value: 0.9213355718336198.\n",
      "[I 2024-11-30 01:37:01,749] Trial 18 finished with value: 0.9128017347432875 and parameters: {'hidden_layer_sizes': '100', 'activation': 'logistic', 'solver': 'sgd', 'learning_rate_init': 0.0018512903096080514, 'alpha': 0.002627467233818033}. Best is trial 4 with value: 0.9213355718336198.\n",
      "[I 2024-11-30 01:37:26,748] Trial 20 finished with value: 0.911903861626189 and parameters: {'hidden_layer_sizes': '100', 'activation': 'logistic', 'solver': 'sgd', 'learning_rate_init': 0.002218719287474647, 'alpha': 0.0015911758663534467}. Best is trial 4 with value: 0.9213355718336198.\n",
      "[I 2024-11-30 01:37:58,898] Trial 21 finished with value: 0.9124896137469811 and parameters: {'hidden_layer_sizes': '100', 'activation': 'logistic', 'solver': 'sgd', 'learning_rate_init': 0.0022914635326122756, 'alpha': 0.001447690260361634}. Best is trial 4 with value: 0.9213355718336198.\n",
      "[I 2024-11-30 01:38:01,504] Trial 22 finished with value: 0.9194603246595608 and parameters: {'hidden_layer_sizes': '100', 'activation': 'relu', 'solver': 'sgd', 'learning_rate_init': 0.002490088641359825, 'alpha': 0.0006691817270599274}. Best is trial 4 with value: 0.9213355718336198.\n",
      "[I 2024-11-30 01:38:12,886] Trial 16 finished with value: 0.9117374050827326 and parameters: {'hidden_layer_sizes': '100', 'activation': 'relu', 'solver': 'sgd', 'learning_rate_init': 0.0001751754287695157, 'alpha': 0.00023974083133918058}. Best is trial 4 with value: 0.9213355718336198.\n",
      "[I 2024-11-30 01:38:44,607] Trial 23 finished with value: 0.9197475779398685 and parameters: {'hidden_layer_sizes': '100', 'activation': 'relu', 'solver': 'sgd', 'learning_rate_init': 0.0019863359547993686, 'alpha': 0.0009475468066703571}. Best is trial 4 with value: 0.9213355718336198.\n",
      "[I 2024-11-30 01:39:47,055] Trial 25 finished with value: 0.920724536357117 and parameters: {'hidden_layer_sizes': '100', 'activation': 'relu', 'solver': 'sgd', 'learning_rate_init': 0.0027570319452088444, 'alpha': 0.0009066885335129476}. Best is trial 4 with value: 0.9213355718336198.\n",
      "[I 2024-11-30 01:40:30,619] Trial 27 finished with value: 0.9191728226544177 and parameters: {'hidden_layer_sizes': '100', 'activation': 'relu', 'solver': 'sgd', 'learning_rate_init': 0.003149835583240954, 'alpha': 0.0005468119257992066}. Best is trial 4 with value: 0.9213355718336198.\n",
      "[I 2024-11-30 01:40:51,393] Trial 28 finished with value: 0.9212272469390796 and parameters: {'hidden_layer_sizes': '100_50', 'activation': 'relu', 'solver': 'sgd', 'learning_rate_init': 0.003475550086167302, 'alpha': 0.0005735549866634716}. Best is trial 4 with value: 0.9213355718336198.\n",
      "[I 2024-11-30 01:41:06,273] Trial 24 finished with value: 0.9085503815778487 and parameters: {'hidden_layer_sizes': '100', 'activation': 'relu', 'solver': 'sgd', 'learning_rate_init': 0.00010140479821141373, 'alpha': 0.0006863254716657314}. Best is trial 4 with value: 0.9213355718336198.\n",
      "[I 2024-11-30 01:41:16,340] Trial 29 finished with value: 0.9183925210477144 and parameters: {'hidden_layer_sizes': '100_50', 'activation': 'relu', 'solver': 'sgd', 'learning_rate_init': 0.0009734125879631318, 'alpha': 0.0005247045323927301}. Best is trial 4 with value: 0.9213355718336198.\n",
      "[I 2024-11-30 01:41:29,334] Trial 26 finished with value: 0.9095495043681906 and parameters: {'hidden_layer_sizes': '100', 'activation': 'relu', 'solver': 'sgd', 'learning_rate_init': 0.00010579315409830587, 'alpha': 0.000611292840289409}. Best is trial 4 with value: 0.9213355718336198.\n"
     ]
    }
   ],
   "source": [
    "from sklearn.neural_network import MLPClassifier\n",
    "from sklearn.metrics import f1_score, accuracy_score, precision_score, recall_score, confusion_matrix, classification_report\n",
    "\n",
    "def objective(trial):\n",
    "    hidden_layer_sizes_options = ['100_50', '50', '100', '100_100_50']\n",
    "    hidden_layer_sizes_str = trial.suggest_categorical('hidden_layer_sizes', hidden_layer_sizes_options)\n",
    "    hidden_layer_sizes = tuple(map(int, hidden_layer_sizes_str.split('_')))\n",
    "    activation = trial.suggest_categorical('activation', ['relu', 'tanh', 'logistic'])\n",
    "    solver = trial.suggest_categorical('solver', ['adam', 'sgd'])\n",
    "    learning_rate_init = trial.suggest_float('learning_rate_init', 1e-4, 1e-2, log=True)\n",
    "    alpha = trial.suggest_float('alpha', 1e-5, 1e-2, log=True)  # Added alpha for L2 regularization\n",
    "\n",
    "    # Initialize the MLPClassifier with the current hyperparameters\n",
    "    mlp = MLPClassifier(\n",
    "        hidden_layer_sizes=hidden_layer_sizes,\n",
    "        activation=activation,\n",
    "        solver=solver,\n",
    "        learning_rate_init=learning_rate_init,\n",
    "        max_iter=1000,  # Set a high value for max_iter\n",
    "        alpha=alpha,\n",
    "        early_stopping=True,  # Enable early stopping\n",
    "        validation_fraction=0.1,\n",
    "        random_state=42\n",
    "    )\n",
    "\n",
    "    # List to store F1 scores for each fold\n",
    "    f1_scores = []\n",
    "\n",
    "    # Perform 5-fold cross-validation\n",
    "    for i in range(5):\n",
    "        # Get the non-SMOTEd validation set (sampled)\n",
    "        X_val, y_val = sampled_folds[i]\n",
    "\n",
    "        # Combine the other 4 SMOTEd folds to create the training set (sampled)\n",
    "        X_train = pd.concat([sampled_smoted_folds[j][0] for j in range(5) if j != i], axis=0)\n",
    "        y_train = pd.concat([sampled_smoted_folds[j][1] for j in range(5) if j != i], axis=0)\n",
    "\n",
    "        # Train the MLP model on the sampled SMOTEd training set\n",
    "        mlp.fit(X_train, y_train)\n",
    "\n",
    "        # Predict on the non-SMOTEd validation set\n",
    "        y_pred = mlp.predict(X_val)\n",
    "\n",
    "        # Calculate F1 score and store it\n",
    "        f1 = f1_score(y_val, y_pred, average='weighted')\n",
    "        f1_scores.append(f1)\n",
    "\n",
    "    # Return the mean F1 score across all folds\n",
    "    return np.mean(f1_scores)\n",
    "\n",
    "# Use Optuna to find the best hyperparameters\n",
    "study = optuna.create_study(direction='maximize')\n",
    "study.optimize(objective, n_trials=30, show_progress_bar=True, n_jobs=-1)"
   ]
  },
  {
   "cell_type": "code",
   "execution_count": 8,
   "metadata": {},
   "outputs": [
    {
     "name": "stdout",
     "output_type": "stream",
     "text": [
      "Best Hyperparameters: {'hidden_layer_sizes': '100', 'activation': 'relu', 'solver': 'sgd', 'learning_rate_init': 0.006208294927077995, 'alpha': 0.0019107398027201213}\n",
      "Best cross-validation F1-score: 0.9213355718336198\n"
     ]
    }
   ],
   "source": [
    "# Get the best parameters from Optuna\n",
    "best_trial = study.best_trial\n",
    "best_params = study.best_params\n",
    "print(\"Best Hyperparameters:\", best_params)\n",
    "print(\"Best cross-validation F1-score:\", study.best_value)\n",
    "\n",
    "# Extract hyperparameters from the best trial found by Optuna\n",
    "hidden_layer_sizes_str = best_params['hidden_layer_sizes']\n",
    "if '_' in hidden_layer_sizes_str:\n",
    "    best_hidden_layer_sizes = tuple(map(int, hidden_layer_sizes_str.split('_')))\n",
    "else:\n",
    "    best_hidden_layer_sizes = [int(hidden_layer_sizes_str)]\n",
    "\n",
    "activation_function = best_params['activation']\n",
    "learning_rate = best_params['learning_rate_init']"
   ]
  },
  {
   "cell_type": "markdown",
   "metadata": {},
   "source": [
    "### Training MLP model\n",
    "\n",
    "We will train the neural network on our feature engineered train dataset. Our hyperparameters will be kept fixed (for now), and we will be using the scikit-learn inbuilt function. This is because we were having problems with tensorflow and its compatibility with pandas."
   ]
  },
  {
   "cell_type": "code",
   "execution_count": 9,
   "metadata": {},
   "outputs": [],
   "source": [
    "# Combine all SMOTEd folds for final training\n",
    "X_train_final = pd.concat([fold[0] for fold in smoted_folds], axis=0)\n",
    "y_train_final = pd.concat([fold[1] for fold in smoted_folds], axis=0)\n",
    "\n",
    "# Ensure that X_train_final is a DataFrame with feature names\n",
    "X_train_final = pd.DataFrame(X_train_final, columns=folds[0][0].columns)\n",
    "\n",
    "# Standardize the final training set\n",
    "scaler_final = StandardScaler()\n",
    "X_train_final_scaled = scaler_final.fit_transform(X_train_final)"
   ]
  },
  {
   "cell_type": "code",
   "execution_count": 10,
   "metadata": {},
   "outputs": [],
   "source": [
    "mlp = MLPClassifier(\n",
    "    hidden_layer_sizes=best_hidden_layer_sizes,\n",
    "    activation=activation_function,\n",
    "    solver=best_params['solver'],\n",
    "    learning_rate_init=learning_rate,\n",
    "    max_iter=200,\n",
    "    random_state=42,\n",
    "    verbose=True,\n",
    "    early_stopping=True,  # Enable early stopping for final training\n",
    "    validation_fraction=0.1\n",
    ")"
   ]
  },
  {
   "cell_type": "code",
   "execution_count": 11,
   "metadata": {},
   "outputs": [
    {
     "name": "stdout",
     "output_type": "stream",
     "text": [
      "Iteration 1, loss = 0.23392961\n",
      "Validation score: 0.925631\n",
      "Iteration 2, loss = 0.17251329\n",
      "Validation score: 0.930270\n",
      "Iteration 3, loss = 0.16489336\n",
      "Validation score: 0.933102\n",
      "Iteration 4, loss = 0.16059709\n",
      "Validation score: 0.936227\n",
      "Iteration 5, loss = 0.15688363\n",
      "Validation score: 0.935983\n",
      "Iteration 6, loss = 0.15419873\n",
      "Validation score: 0.936179\n",
      "Iteration 7, loss = 0.15169560\n",
      "Validation score: 0.937350\n",
      "Iteration 8, loss = 0.14984254\n",
      "Validation score: 0.937057\n",
      "Iteration 9, loss = 0.14814942\n",
      "Validation score: 0.938718\n",
      "Iteration 10, loss = 0.14641856\n",
      "Validation score: 0.939401\n",
      "Iteration 11, loss = 0.14516464\n",
      "Validation score: 0.939792\n",
      "Iteration 12, loss = 0.14359487\n",
      "Validation score: 0.939890\n",
      "Iteration 13, loss = 0.14264080\n",
      "Validation score: 0.939841\n",
      "Iteration 14, loss = 0.14150037\n",
      "Validation score: 0.940427\n",
      "Iteration 15, loss = 0.14061239\n",
      "Validation score: 0.940720\n",
      "Iteration 16, loss = 0.14004593\n",
      "Validation score: 0.941501\n",
      "Iteration 17, loss = 0.13936132\n",
      "Validation score: 0.941550\n",
      "Iteration 18, loss = 0.13798556\n",
      "Validation score: 0.941794\n",
      "Iteration 19, loss = 0.13751878\n",
      "Validation score: 0.942429\n",
      "Iteration 20, loss = 0.13692235\n",
      "Validation score: 0.941062\n",
      "Iteration 21, loss = 0.13573428\n",
      "Validation score: 0.942868\n",
      "Iteration 22, loss = 0.13481800\n",
      "Validation score: 0.943015\n",
      "Iteration 23, loss = 0.13438798\n",
      "Validation score: 0.942087\n",
      "Iteration 24, loss = 0.13387369\n",
      "Validation score: 0.942917\n",
      "Iteration 25, loss = 0.13310854\n",
      "Validation score: 0.943650\n",
      "Iteration 26, loss = 0.13245693\n",
      "Validation score: 0.943259\n",
      "Iteration 27, loss = 0.13205749\n",
      "Validation score: 0.942380\n",
      "Iteration 28, loss = 0.13226339\n",
      "Validation score: 0.942917\n",
      "Iteration 29, loss = 0.13139188\n",
      "Validation score: 0.943210\n",
      "Iteration 30, loss = 0.13059496\n",
      "Validation score: 0.943210\n",
      "Iteration 31, loss = 0.12981016\n",
      "Validation score: 0.944089\n",
      "Iteration 32, loss = 0.12955880\n",
      "Validation score: 0.943943\n",
      "Iteration 33, loss = 0.12890274\n",
      "Validation score: 0.943454\n",
      "Iteration 34, loss = 0.12840873\n",
      "Validation score: 0.945066\n",
      "Iteration 35, loss = 0.12895504\n",
      "Validation score: 0.944040\n",
      "Iteration 36, loss = 0.12748436\n",
      "Validation score: 0.944968\n",
      "Iteration 37, loss = 0.12711619\n",
      "Validation score: 0.944089\n",
      "Iteration 38, loss = 0.12675215\n",
      "Validation score: 0.944724\n",
      "Iteration 39, loss = 0.12617057\n",
      "Validation score: 0.944773\n",
      "Iteration 40, loss = 0.12581335\n",
      "Validation score: 0.944236\n",
      "Iteration 41, loss = 0.12525816\n",
      "Validation score: 0.946482\n",
      "Iteration 42, loss = 0.12523228\n",
      "Validation score: 0.945945\n",
      "Iteration 43, loss = 0.12474121\n",
      "Validation score: 0.945017\n",
      "Iteration 44, loss = 0.12418942\n",
      "Validation score: 0.945017\n",
      "Iteration 45, loss = 0.12473596\n",
      "Validation score: 0.944822\n",
      "Iteration 46, loss = 0.12334309\n",
      "Validation score: 0.945066\n",
      "Iteration 47, loss = 0.12308498\n",
      "Validation score: 0.946042\n",
      "Iteration 48, loss = 0.12316640\n",
      "Validation score: 0.945847\n",
      "Iteration 49, loss = 0.12277919\n",
      "Validation score: 0.946238\n",
      "Iteration 50, loss = 0.12240452\n",
      "Validation score: 0.945603\n",
      "Iteration 51, loss = 0.12199581\n",
      "Validation score: 0.946189\n",
      "Iteration 52, loss = 0.12110724\n",
      "Validation score: 0.945603\n",
      "Validation score did not improve more than tol=0.000100 for 10 consecutive epochs. Stopping.\n"
     ]
    },
    {
     "data": {
      "text/html": [
       "<style>#sk-container-id-1 {\n",
       "  /* Definition of color scheme common for light and dark mode */\n",
       "  --sklearn-color-text: black;\n",
       "  --sklearn-color-line: gray;\n",
       "  /* Definition of color scheme for unfitted estimators */\n",
       "  --sklearn-color-unfitted-level-0: #fff5e6;\n",
       "  --sklearn-color-unfitted-level-1: #f6e4d2;\n",
       "  --sklearn-color-unfitted-level-2: #ffe0b3;\n",
       "  --sklearn-color-unfitted-level-3: chocolate;\n",
       "  /* Definition of color scheme for fitted estimators */\n",
       "  --sklearn-color-fitted-level-0: #f0f8ff;\n",
       "  --sklearn-color-fitted-level-1: #d4ebff;\n",
       "  --sklearn-color-fitted-level-2: #b3dbfd;\n",
       "  --sklearn-color-fitted-level-3: cornflowerblue;\n",
       "\n",
       "  /* Specific color for light theme */\n",
       "  --sklearn-color-text-on-default-background: var(--sg-text-color, var(--theme-code-foreground, var(--jp-content-font-color1, black)));\n",
       "  --sklearn-color-background: var(--sg-background-color, var(--theme-background, var(--jp-layout-color0, white)));\n",
       "  --sklearn-color-border-box: var(--sg-text-color, var(--theme-code-foreground, var(--jp-content-font-color1, black)));\n",
       "  --sklearn-color-icon: #696969;\n",
       "\n",
       "  @media (prefers-color-scheme: dark) {\n",
       "    /* Redefinition of color scheme for dark theme */\n",
       "    --sklearn-color-text-on-default-background: var(--sg-text-color, var(--theme-code-foreground, var(--jp-content-font-color1, white)));\n",
       "    --sklearn-color-background: var(--sg-background-color, var(--theme-background, var(--jp-layout-color0, #111)));\n",
       "    --sklearn-color-border-box: var(--sg-text-color, var(--theme-code-foreground, var(--jp-content-font-color1, white)));\n",
       "    --sklearn-color-icon: #878787;\n",
       "  }\n",
       "}\n",
       "\n",
       "#sk-container-id-1 {\n",
       "  color: var(--sklearn-color-text);\n",
       "}\n",
       "\n",
       "#sk-container-id-1 pre {\n",
       "  padding: 0;\n",
       "}\n",
       "\n",
       "#sk-container-id-1 input.sk-hidden--visually {\n",
       "  border: 0;\n",
       "  clip: rect(1px 1px 1px 1px);\n",
       "  clip: rect(1px, 1px, 1px, 1px);\n",
       "  height: 1px;\n",
       "  margin: -1px;\n",
       "  overflow: hidden;\n",
       "  padding: 0;\n",
       "  position: absolute;\n",
       "  width: 1px;\n",
       "}\n",
       "\n",
       "#sk-container-id-1 div.sk-dashed-wrapped {\n",
       "  border: 1px dashed var(--sklearn-color-line);\n",
       "  margin: 0 0.4em 0.5em 0.4em;\n",
       "  box-sizing: border-box;\n",
       "  padding-bottom: 0.4em;\n",
       "  background-color: var(--sklearn-color-background);\n",
       "}\n",
       "\n",
       "#sk-container-id-1 div.sk-container {\n",
       "  /* jupyter's `normalize.less` sets `[hidden] { display: none; }`\n",
       "     but bootstrap.min.css set `[hidden] { display: none !important; }`\n",
       "     so we also need the `!important` here to be able to override the\n",
       "     default hidden behavior on the sphinx rendered scikit-learn.org.\n",
       "     See: https://github.com/scikit-learn/scikit-learn/issues/21755 */\n",
       "  display: inline-block !important;\n",
       "  position: relative;\n",
       "}\n",
       "\n",
       "#sk-container-id-1 div.sk-text-repr-fallback {\n",
       "  display: none;\n",
       "}\n",
       "\n",
       "div.sk-parallel-item,\n",
       "div.sk-serial,\n",
       "div.sk-item {\n",
       "  /* draw centered vertical line to link estimators */\n",
       "  background-image: linear-gradient(var(--sklearn-color-text-on-default-background), var(--sklearn-color-text-on-default-background));\n",
       "  background-size: 2px 100%;\n",
       "  background-repeat: no-repeat;\n",
       "  background-position: center center;\n",
       "}\n",
       "\n",
       "/* Parallel-specific style estimator block */\n",
       "\n",
       "#sk-container-id-1 div.sk-parallel-item::after {\n",
       "  content: \"\";\n",
       "  width: 100%;\n",
       "  border-bottom: 2px solid var(--sklearn-color-text-on-default-background);\n",
       "  flex-grow: 1;\n",
       "}\n",
       "\n",
       "#sk-container-id-1 div.sk-parallel {\n",
       "  display: flex;\n",
       "  align-items: stretch;\n",
       "  justify-content: center;\n",
       "  background-color: var(--sklearn-color-background);\n",
       "  position: relative;\n",
       "}\n",
       "\n",
       "#sk-container-id-1 div.sk-parallel-item {\n",
       "  display: flex;\n",
       "  flex-direction: column;\n",
       "}\n",
       "\n",
       "#sk-container-id-1 div.sk-parallel-item:first-child::after {\n",
       "  align-self: flex-end;\n",
       "  width: 50%;\n",
       "}\n",
       "\n",
       "#sk-container-id-1 div.sk-parallel-item:last-child::after {\n",
       "  align-self: flex-start;\n",
       "  width: 50%;\n",
       "}\n",
       "\n",
       "#sk-container-id-1 div.sk-parallel-item:only-child::after {\n",
       "  width: 0;\n",
       "}\n",
       "\n",
       "/* Serial-specific style estimator block */\n",
       "\n",
       "#sk-container-id-1 div.sk-serial {\n",
       "  display: flex;\n",
       "  flex-direction: column;\n",
       "  align-items: center;\n",
       "  background-color: var(--sklearn-color-background);\n",
       "  padding-right: 1em;\n",
       "  padding-left: 1em;\n",
       "}\n",
       "\n",
       "\n",
       "/* Toggleable style: style used for estimator/Pipeline/ColumnTransformer box that is\n",
       "clickable and can be expanded/collapsed.\n",
       "- Pipeline and ColumnTransformer use this feature and define the default style\n",
       "- Estimators will overwrite some part of the style using the `sk-estimator` class\n",
       "*/\n",
       "\n",
       "/* Pipeline and ColumnTransformer style (default) */\n",
       "\n",
       "#sk-container-id-1 div.sk-toggleable {\n",
       "  /* Default theme specific background. It is overwritten whether we have a\n",
       "  specific estimator or a Pipeline/ColumnTransformer */\n",
       "  background-color: var(--sklearn-color-background);\n",
       "}\n",
       "\n",
       "/* Toggleable label */\n",
       "#sk-container-id-1 label.sk-toggleable__label {\n",
       "  cursor: pointer;\n",
       "  display: block;\n",
       "  width: 100%;\n",
       "  margin-bottom: 0;\n",
       "  padding: 0.5em;\n",
       "  box-sizing: border-box;\n",
       "  text-align: center;\n",
       "}\n",
       "\n",
       "#sk-container-id-1 label.sk-toggleable__label-arrow:before {\n",
       "  /* Arrow on the left of the label */\n",
       "  content: \"▸\";\n",
       "  float: left;\n",
       "  margin-right: 0.25em;\n",
       "  color: var(--sklearn-color-icon);\n",
       "}\n",
       "\n",
       "#sk-container-id-1 label.sk-toggleable__label-arrow:hover:before {\n",
       "  color: var(--sklearn-color-text);\n",
       "}\n",
       "\n",
       "/* Toggleable content - dropdown */\n",
       "\n",
       "#sk-container-id-1 div.sk-toggleable__content {\n",
       "  max-height: 0;\n",
       "  max-width: 0;\n",
       "  overflow: hidden;\n",
       "  text-align: left;\n",
       "  /* unfitted */\n",
       "  background-color: var(--sklearn-color-unfitted-level-0);\n",
       "}\n",
       "\n",
       "#sk-container-id-1 div.sk-toggleable__content.fitted {\n",
       "  /* fitted */\n",
       "  background-color: var(--sklearn-color-fitted-level-0);\n",
       "}\n",
       "\n",
       "#sk-container-id-1 div.sk-toggleable__content pre {\n",
       "  margin: 0.2em;\n",
       "  border-radius: 0.25em;\n",
       "  color: var(--sklearn-color-text);\n",
       "  /* unfitted */\n",
       "  background-color: var(--sklearn-color-unfitted-level-0);\n",
       "}\n",
       "\n",
       "#sk-container-id-1 div.sk-toggleable__content.fitted pre {\n",
       "  /* unfitted */\n",
       "  background-color: var(--sklearn-color-fitted-level-0);\n",
       "}\n",
       "\n",
       "#sk-container-id-1 input.sk-toggleable__control:checked~div.sk-toggleable__content {\n",
       "  /* Expand drop-down */\n",
       "  max-height: 200px;\n",
       "  max-width: 100%;\n",
       "  overflow: auto;\n",
       "}\n",
       "\n",
       "#sk-container-id-1 input.sk-toggleable__control:checked~label.sk-toggleable__label-arrow:before {\n",
       "  content: \"▾\";\n",
       "}\n",
       "\n",
       "/* Pipeline/ColumnTransformer-specific style */\n",
       "\n",
       "#sk-container-id-1 div.sk-label input.sk-toggleable__control:checked~label.sk-toggleable__label {\n",
       "  color: var(--sklearn-color-text);\n",
       "  background-color: var(--sklearn-color-unfitted-level-2);\n",
       "}\n",
       "\n",
       "#sk-container-id-1 div.sk-label.fitted input.sk-toggleable__control:checked~label.sk-toggleable__label {\n",
       "  background-color: var(--sklearn-color-fitted-level-2);\n",
       "}\n",
       "\n",
       "/* Estimator-specific style */\n",
       "\n",
       "/* Colorize estimator box */\n",
       "#sk-container-id-1 div.sk-estimator input.sk-toggleable__control:checked~label.sk-toggleable__label {\n",
       "  /* unfitted */\n",
       "  background-color: var(--sklearn-color-unfitted-level-2);\n",
       "}\n",
       "\n",
       "#sk-container-id-1 div.sk-estimator.fitted input.sk-toggleable__control:checked~label.sk-toggleable__label {\n",
       "  /* fitted */\n",
       "  background-color: var(--sklearn-color-fitted-level-2);\n",
       "}\n",
       "\n",
       "#sk-container-id-1 div.sk-label label.sk-toggleable__label,\n",
       "#sk-container-id-1 div.sk-label label {\n",
       "  /* The background is the default theme color */\n",
       "  color: var(--sklearn-color-text-on-default-background);\n",
       "}\n",
       "\n",
       "/* On hover, darken the color of the background */\n",
       "#sk-container-id-1 div.sk-label:hover label.sk-toggleable__label {\n",
       "  color: var(--sklearn-color-text);\n",
       "  background-color: var(--sklearn-color-unfitted-level-2);\n",
       "}\n",
       "\n",
       "/* Label box, darken color on hover, fitted */\n",
       "#sk-container-id-1 div.sk-label.fitted:hover label.sk-toggleable__label.fitted {\n",
       "  color: var(--sklearn-color-text);\n",
       "  background-color: var(--sklearn-color-fitted-level-2);\n",
       "}\n",
       "\n",
       "/* Estimator label */\n",
       "\n",
       "#sk-container-id-1 div.sk-label label {\n",
       "  font-family: monospace;\n",
       "  font-weight: bold;\n",
       "  display: inline-block;\n",
       "  line-height: 1.2em;\n",
       "}\n",
       "\n",
       "#sk-container-id-1 div.sk-label-container {\n",
       "  text-align: center;\n",
       "}\n",
       "\n",
       "/* Estimator-specific */\n",
       "#sk-container-id-1 div.sk-estimator {\n",
       "  font-family: monospace;\n",
       "  border: 1px dotted var(--sklearn-color-border-box);\n",
       "  border-radius: 0.25em;\n",
       "  box-sizing: border-box;\n",
       "  margin-bottom: 0.5em;\n",
       "  /* unfitted */\n",
       "  background-color: var(--sklearn-color-unfitted-level-0);\n",
       "}\n",
       "\n",
       "#sk-container-id-1 div.sk-estimator.fitted {\n",
       "  /* fitted */\n",
       "  background-color: var(--sklearn-color-fitted-level-0);\n",
       "}\n",
       "\n",
       "/* on hover */\n",
       "#sk-container-id-1 div.sk-estimator:hover {\n",
       "  /* unfitted */\n",
       "  background-color: var(--sklearn-color-unfitted-level-2);\n",
       "}\n",
       "\n",
       "#sk-container-id-1 div.sk-estimator.fitted:hover {\n",
       "  /* fitted */\n",
       "  background-color: var(--sklearn-color-fitted-level-2);\n",
       "}\n",
       "\n",
       "/* Specification for estimator info (e.g. \"i\" and \"?\") */\n",
       "\n",
       "/* Common style for \"i\" and \"?\" */\n",
       "\n",
       ".sk-estimator-doc-link,\n",
       "a:link.sk-estimator-doc-link,\n",
       "a:visited.sk-estimator-doc-link {\n",
       "  float: right;\n",
       "  font-size: smaller;\n",
       "  line-height: 1em;\n",
       "  font-family: monospace;\n",
       "  background-color: var(--sklearn-color-background);\n",
       "  border-radius: 1em;\n",
       "  height: 1em;\n",
       "  width: 1em;\n",
       "  text-decoration: none !important;\n",
       "  margin-left: 1ex;\n",
       "  /* unfitted */\n",
       "  border: var(--sklearn-color-unfitted-level-1) 1pt solid;\n",
       "  color: var(--sklearn-color-unfitted-level-1);\n",
       "}\n",
       "\n",
       ".sk-estimator-doc-link.fitted,\n",
       "a:link.sk-estimator-doc-link.fitted,\n",
       "a:visited.sk-estimator-doc-link.fitted {\n",
       "  /* fitted */\n",
       "  border: var(--sklearn-color-fitted-level-1) 1pt solid;\n",
       "  color: var(--sklearn-color-fitted-level-1);\n",
       "}\n",
       "\n",
       "/* On hover */\n",
       "div.sk-estimator:hover .sk-estimator-doc-link:hover,\n",
       ".sk-estimator-doc-link:hover,\n",
       "div.sk-label-container:hover .sk-estimator-doc-link:hover,\n",
       ".sk-estimator-doc-link:hover {\n",
       "  /* unfitted */\n",
       "  background-color: var(--sklearn-color-unfitted-level-3);\n",
       "  color: var(--sklearn-color-background);\n",
       "  text-decoration: none;\n",
       "}\n",
       "\n",
       "div.sk-estimator.fitted:hover .sk-estimator-doc-link.fitted:hover,\n",
       ".sk-estimator-doc-link.fitted:hover,\n",
       "div.sk-label-container:hover .sk-estimator-doc-link.fitted:hover,\n",
       ".sk-estimator-doc-link.fitted:hover {\n",
       "  /* fitted */\n",
       "  background-color: var(--sklearn-color-fitted-level-3);\n",
       "  color: var(--sklearn-color-background);\n",
       "  text-decoration: none;\n",
       "}\n",
       "\n",
       "/* Span, style for the box shown on hovering the info icon */\n",
       ".sk-estimator-doc-link span {\n",
       "  display: none;\n",
       "  z-index: 9999;\n",
       "  position: relative;\n",
       "  font-weight: normal;\n",
       "  right: .2ex;\n",
       "  padding: .5ex;\n",
       "  margin: .5ex;\n",
       "  width: min-content;\n",
       "  min-width: 20ex;\n",
       "  max-width: 50ex;\n",
       "  color: var(--sklearn-color-text);\n",
       "  box-shadow: 2pt 2pt 4pt #999;\n",
       "  /* unfitted */\n",
       "  background: var(--sklearn-color-unfitted-level-0);\n",
       "  border: .5pt solid var(--sklearn-color-unfitted-level-3);\n",
       "}\n",
       "\n",
       ".sk-estimator-doc-link.fitted span {\n",
       "  /* fitted */\n",
       "  background: var(--sklearn-color-fitted-level-0);\n",
       "  border: var(--sklearn-color-fitted-level-3);\n",
       "}\n",
       "\n",
       ".sk-estimator-doc-link:hover span {\n",
       "  display: block;\n",
       "}\n",
       "\n",
       "/* \"?\"-specific style due to the `<a>` HTML tag */\n",
       "\n",
       "#sk-container-id-1 a.estimator_doc_link {\n",
       "  float: right;\n",
       "  font-size: 1rem;\n",
       "  line-height: 1em;\n",
       "  font-family: monospace;\n",
       "  background-color: var(--sklearn-color-background);\n",
       "  border-radius: 1rem;\n",
       "  height: 1rem;\n",
       "  width: 1rem;\n",
       "  text-decoration: none;\n",
       "  /* unfitted */\n",
       "  color: var(--sklearn-color-unfitted-level-1);\n",
       "  border: var(--sklearn-color-unfitted-level-1) 1pt solid;\n",
       "}\n",
       "\n",
       "#sk-container-id-1 a.estimator_doc_link.fitted {\n",
       "  /* fitted */\n",
       "  border: var(--sklearn-color-fitted-level-1) 1pt solid;\n",
       "  color: var(--sklearn-color-fitted-level-1);\n",
       "}\n",
       "\n",
       "/* On hover */\n",
       "#sk-container-id-1 a.estimator_doc_link:hover {\n",
       "  /* unfitted */\n",
       "  background-color: var(--sklearn-color-unfitted-level-3);\n",
       "  color: var(--sklearn-color-background);\n",
       "  text-decoration: none;\n",
       "}\n",
       "\n",
       "#sk-container-id-1 a.estimator_doc_link.fitted:hover {\n",
       "  /* fitted */\n",
       "  background-color: var(--sklearn-color-fitted-level-3);\n",
       "}\n",
       "</style><div id=\"sk-container-id-1\" class=\"sk-top-container\"><div class=\"sk-text-repr-fallback\"><pre>MLPClassifier(early_stopping=True, hidden_layer_sizes=[100],\n",
       "              learning_rate_init=0.006208294927077995, random_state=42,\n",
       "              solver=&#x27;sgd&#x27;, verbose=True)</pre><b>In a Jupyter environment, please rerun this cell to show the HTML representation or trust the notebook. <br />On GitHub, the HTML representation is unable to render, please try loading this page with nbviewer.org.</b></div><div class=\"sk-container\" hidden><div class=\"sk-item\"><div class=\"sk-estimator fitted sk-toggleable\"><input class=\"sk-toggleable__control sk-hidden--visually\" id=\"sk-estimator-id-1\" type=\"checkbox\" checked><label for=\"sk-estimator-id-1\" class=\"sk-toggleable__label fitted sk-toggleable__label-arrow fitted\">&nbsp;&nbsp;MLPClassifier<a class=\"sk-estimator-doc-link fitted\" rel=\"noreferrer\" target=\"_blank\" href=\"https://scikit-learn.org/1.5/modules/generated/sklearn.neural_network.MLPClassifier.html\">?<span>Documentation for MLPClassifier</span></a><span class=\"sk-estimator-doc-link fitted\">i<span>Fitted</span></span></label><div class=\"sk-toggleable__content fitted\"><pre>MLPClassifier(early_stopping=True, hidden_layer_sizes=[100],\n",
       "              learning_rate_init=0.006208294927077995, random_state=42,\n",
       "              solver=&#x27;sgd&#x27;, verbose=True)</pre></div> </div></div></div></div>"
      ],
      "text/plain": [
       "MLPClassifier(early_stopping=True, hidden_layer_sizes=[100],\n",
       "              learning_rate_init=0.006208294927077995, random_state=42,\n",
       "              solver='sgd', verbose=True)"
      ]
     },
     "execution_count": 11,
     "metadata": {},
     "output_type": "execute_result"
    }
   ],
   "source": [
    "mlp.fit(X_train_final_scaled, y_train_final)"
   ]
  },
  {
   "cell_type": "code",
   "execution_count": 12,
   "metadata": {},
   "outputs": [
    {
     "data": {
      "image/png": "[encoded data removed]",
      "text/plain": [
       "<Figure size 640x480 with 1 Axes>"
      ]
     },
     "metadata": {},
     "output_type": "display_data"
    }
   ],
   "source": [
    "plt.plot(mlp.loss_curve_)\n",
    "plt.xlabel('Epochs')\n",
    "plt.ylabel('Loss')\n",
    "plt.title('Training Loss vs. Epochs')\n",
    "plt.grid()\n",
    "plt.show()"
   ]
  },
  {
   "cell_type": "markdown",
   "metadata": {},
   "source": [
    "### Test MLP model\n",
    "\n",
    "We will test our model on the feature engineered test dataset. We will be using accuracy, precision, recall, F1 score, as well as a confusion matrix for evaluation."
   ]
  },
  {
   "cell_type": "code",
   "execution_count": 13,
   "metadata": {},
   "outputs": [],
   "source": [
    "# Drop irrelevant columns to match the training dataset\n",
    "irrelevant_columns = ['client_id', 'creation_date', 'meter_number', 'meter_code']\n",
    "X_test_prepared = X_test.drop(columns=irrelevant_columns, errors='ignore')\n",
    "\n",
    "# Standardize the test set using the same scaler used for training\n",
    "X_test_scaled = scaler_final.transform(X_test_prepared)"
   ]
  },
  {
   "cell_type": "code",
   "execution_count": 14,
   "metadata": {},
   "outputs": [],
   "source": [
    "# Make predictions on the test set\n",
    "y_pred = mlp.predict(X_test_scaled)"
   ]
  },
  {
   "cell_type": "code",
   "execution_count": 15,
   "metadata": {},
   "outputs": [
    {
     "name": "stdout",
     "output_type": "stream",
     "text": [
      "Model Evaluation Metrics:\n",
      "Accuracy: 0.92\n",
      "Precision: 0.92\n",
      "Recall: 0.92\n",
      "F1 Score: 0.92\n",
      "\n",
      "Confusion Matrix:\n",
      "[[24472  1063]\n",
      " [ 1039   525]]\n",
      "\n",
      "Classification Report:\n",
      "              precision    recall  f1-score   support\n",
      "\n",
      "   Not Fraud       0.96      0.96      0.96     25535\n",
      "       Fraud       0.33      0.34      0.33      1564\n",
      "\n",
      "    accuracy                           0.92     27099\n",
      "   macro avg       0.64      0.65      0.65     27099\n",
      "weighted avg       0.92      0.92      0.92     27099\n",
      "\n"
     ]
    }
   ],
   "source": [
    "# Evaluate the model using various metrics\n",
    "accuracy = accuracy_score(y_test, y_pred)\n",
    "precision = precision_score(y_test, y_pred, average='weighted')\n",
    "recall = recall_score(y_test, y_pred, average='weighted')\n",
    "f1 = f1_score(y_test, y_pred, average='weighted')\n",
    "conf_matrix = confusion_matrix(y_test, y_pred)\n",
    "\n",
    "print(\"Model Evaluation Metrics:\")\n",
    "print(f\"Accuracy: {accuracy:.2f}\")\n",
    "print(f\"Precision: {precision:.2f}\")\n",
    "print(f\"Recall: {recall:.2f}\")\n",
    "print(f\"F1 Score: {f1:.2f}\")\n",
    "print(f\"\\nConfusion Matrix:\\n{conf_matrix}\")\n",
    "\n",
    "print(\"\\nClassification Report:\")\n",
    "print(classification_report(y_test, y_pred, target_names=[\"Not Fraud\", \"Fraud\"]))"
   ]
  },
  {
   "cell_type": "markdown",
   "metadata": {},
   "source": [
    "## RNN model\n",
    "\n",
    "We understand that one of the limitations of the MLP model is that it does not take into account each individual invoice of a client. This results in the loss of some information regarding the sequential nature of the invoices. Hence, for the RNN model, we plan to approach this with a non-aggregated dataset. We will follow the same data cleaning as the previous dataset, but without the aggregation and SMOTE. We will then use an RNN with weight class adjustments in order to deal with the imbalanced data.\n",
    "\n",
    "We will proceed with this flow:\n",
    "1. Feature engineering for RNN\n",
    "2. Preparing data for RNN\n",
    "3. Model RNN\n",
    "4. Evaluate RNN\n"
   ]
  },
  {
   "cell_type": "markdown",
   "metadata": {},
   "source": [
    "### Feature engineering for RNN\n",
    "\n",
    "The RNN model uses very different feature engineering techniques compared to the MLP model, and hence we need to handle them very differerntly. We will be looking at client first before invoice."
   ]
  },
  {
   "cell_type": "code",
   "execution_count": null,
   "metadata": {},
   "outputs": [],
   "source": [
    "invoice.info()"
   ]
  },
  {
   "cell_type": "code",
   "execution_count": null,
   "metadata": {},
   "outputs": [],
   "source": [
    "client.info()"
   ]
  },
  {
   "cell_type": "markdown",
   "metadata": {},
   "source": [
    "#### Client\n",
    "\n",
    "Here, we will deal with the client dataset. "
   ]
  },
  {
   "cell_type": "markdown",
   "metadata": {},
   "source": [
    "##### creation_date breakdown\n",
    "\n",
    "We breakdown creation_date into year, month, and day in order for our model to be able to process this feature, as it will not be able to process an object or a datetime datatype."
   ]
  },
  {
   "cell_type": "code",
   "execution_count": null,
   "metadata": {},
   "outputs": [],
   "source": [
    "client['creation_date'] = pd.to_datetime(client['creation_date'])\n",
    "client['creation_date_year'] = client['creation_date'].dt.year\n",
    "client['creation_date_month'] = client['creation_date'].dt.month\n",
    "client['creation_date_day'] = client['creation_date'].dt.day"
   ]
  },
  {
   "cell_type": "markdown",
   "metadata": {},
   "source": [
    "##### Drop creation_date\n",
    "\n",
    "We will drop creation_date as we already have its derived features of year month and day."
   ]
  },
  {
   "cell_type": "code",
   "execution_count": null,
   "metadata": {},
   "outputs": [],
   "source": [
    "client = client.drop(columns=['creation_date'])"
   ]
  },
  {
   "cell_type": "markdown",
   "metadata": {},
   "source": [
    "##### One hot encoding\n",
    "\n",
    "We will one hot encode our non ordinal categorical features. This is because we do not want our model to assume ordinality or an order in these features, hence we have to one hot encode."
   ]
  },
  {
   "cell_type": "code",
   "execution_count": null,
   "metadata": {},
   "outputs": [],
   "source": [
    "non_ordinal_categorical_client = ['disrict', 'client_catg', \n",
    "                                  'region']\n",
    "\n",
    "client = pd.get_dummies(client, columns=non_ordinal_categorical_client)"
   ]
  },
  {
   "cell_type": "markdown",
   "metadata": {},
   "source": [
    "##### Label encoding\n",
    "\n",
    "We will label the features which are categorical but have an order to them. This is to reduce the number of features we will have, and for the model to potentially learn from their ordinal nature."
   ]
  },
  {
   "cell_type": "code",
   "execution_count": null,
   "metadata": {},
   "outputs": [],
   "source": [
    "ordinal_categorical_client = ['creation_date_year', 'creation_date_month', 'creation_date_day']\n",
    "\n",
    "for col in ordinal_categorical_client:\n",
    "    counts = client[col].value_counts()\n",
    "    print(counts)"
   ]
  },
  {
   "cell_type": "markdown",
   "metadata": {},
   "source": [
    "##### final client\n",
    "\n",
    "We will now be able to look at the final client dataset."
   ]
  },
  {
   "cell_type": "code",
   "execution_count": null,
   "metadata": {},
   "outputs": [],
   "source": [
    "client.info()"
   ]
  },
  {
   "cell_type": "markdown",
   "metadata": {},
   "source": [
    "#### Invoice\n",
    "\n",
    "Here, we will deal with the invoice dataset."
   ]
  },
  {
   "cell_type": "markdown",
   "metadata": {},
   "source": [
    "##### Deal with invoice_date\n",
    "\n",
    "We will convert invoice_date to the datetime format for easier processing later down the line, as this will be the determining sequential feature that we will use for the RNN modelling."
   ]
  },
  {
   "cell_type": "code",
   "execution_count": null,
   "metadata": {},
   "outputs": [],
   "source": [
    "invoice['invoice_date'] = pd.to_datetime(invoice['invoice_date'])"
   ]
  },
  {
   "cell_type": "markdown",
   "metadata": {},
   "source": [
    "##### Scaling \n",
    "\n",
    "We will scale continuous variables, to ensure that all features contribute equally when it comes to the gradient descent during optimization."
   ]
  },
  {
   "cell_type": "code",
   "execution_count": null,
   "metadata": {},
   "outputs": [],
   "source": [
    "continuous_features_invoice = ['consumption_level_1', 'consumption_level_2',\n",
    "                       'consumption_level_3', 'consumption_level_4',\n",
    "                        'new_index', 'old_index']\n",
    "\n",
    "scaler = StandardScaler()\n",
    "invoice[continuous_features_invoice] = scaler.fit_transform(invoice[continuous_features_invoice])\n",
    "invoice[continuous_features_invoice]"
   ]
  },
  {
   "cell_type": "markdown",
   "metadata": {},
   "source": [
    "##### One hot encoding\n",
    "\n",
    "We will similarly one hot encode the non ordinal categorical features in invoice for the same reasons as we did for client."
   ]
  },
  {
   "cell_type": "code",
   "execution_count": null,
   "metadata": {},
   "outputs": [],
   "source": [
    "non_ordinal_categorical_invoice = [ 'meter_status', 'meter_code', \n",
    "                            'reading_remark', 'meter_type',\n",
    "                            'meter_coefficient']\n",
    "\n",
    "invoice = pd.get_dummies(invoice, columns=non_ordinal_categorical_invoice)"
   ]
  },
  {
   "cell_type": "markdown",
   "metadata": {},
   "source": [
    "##### Label encoding\n",
    "\n",
    "We will similarly label encode the ordinal categorical features in invoice for the same reasons we did for client."
   ]
  },
  {
   "cell_type": "code",
   "execution_count": null,
   "metadata": {},
   "outputs": [],
   "source": [
    "ordinal_categorical_invoice = ['meter_number', 'months_number']\n",
    "\n",
    "for col in ordinal_categorical_invoice:\n",
    "    counts = invoice[col].value_counts()\n",
    "    print(counts)"
   ]
  },
  {
   "cell_type": "markdown",
   "metadata": {},
   "source": [
    "##### final invoice\n",
    "\n",
    "We will now be able to look at the final invoice dataset."
   ]
  },
  {
   "cell_type": "code",
   "execution_count": null,
   "metadata": {},
   "outputs": [],
   "source": [
    "invoice.info()"
   ]
  },
  {
   "cell_type": "markdown",
   "metadata": {},
   "source": [
    "### Preparing data for RNN\n",
    "\n",
    "In order to prepare our dataset for RNN, we will need to firstly group our invoices by clients, in order of invoice date. We will then be able to extract their informational features. We also need to extract, for the client, their client data, as well as label data (fraud or not fraud). This is so that our RNN is able to use the sequential nature of invoices."
   ]
  },
  {
   "cell_type": "markdown",
   "metadata": {},
   "source": [
    "#### Get informational columns\n",
    "\n",
    "We will obtain the informational features of both invoice and clients, which as the features that we want our model to learn from."
   ]
  },
  {
   "cell_type": "code",
   "execution_count": null,
   "metadata": {},
   "outputs": [],
   "source": [
    "# Invoice feature columns\n",
    "invoice_feature_cols = invoice.columns.difference(['client_id', 'invoice_date'])\n",
    "\n",
    "# Client feature columns\n",
    "client_feature_cols = client.columns.difference(['client_id', 'fraud_status'])"
   ]
  },
  {
   "cell_type": "code",
   "execution_count": null,
   "metadata": {},
   "outputs": [],
   "source": [
    "len(invoice_feature_cols)"
   ]
  },
  {
   "cell_type": "code",
   "execution_count": null,
   "metadata": {},
   "outputs": [],
   "source": [
    "len(client_feature_cols)"
   ]
  },
  {
   "cell_type": "markdown",
   "metadata": {},
   "source": [
    "#### Sort the dataset\n",
    "\n",
    "We will sort our dataset by client_id and invoice_date, followed by grouping invoices by client_id. This helps us obtain the sequences of of invoices that the RNN will input."
   ]
  },
  {
   "cell_type": "code",
   "execution_count": null,
   "metadata": {},
   "outputs": [],
   "source": [
    "invoice = invoice.sort_values(by=['client_id', 'invoice_date'])\n",
    "grouped_invoices = invoice.groupby('client_id')"
   ]
  },
  {
   "cell_type": "markdown",
   "metadata": {},
   "source": [
    "#### Obtain max_length\n",
    "\n",
    "We need to obtain the max_length of each group (max number of invoices per client), as only then are we able to apply padding to our sequences to ensure that they are all of the same length."
   ]
  },
  {
   "cell_type": "code",
   "execution_count": null,
   "metadata": {},
   "outputs": [],
   "source": [
    "max_length = grouped_invoices.size().max()"
   ]
  },
  {
   "cell_type": "markdown",
   "metadata": {},
   "source": [
    "#### Create containers\n",
    "\n",
    "We will create 3 containers to store the features and targets."
   ]
  },
  {
   "cell_type": "code",
   "execution_count": null,
   "metadata": {},
   "outputs": [],
   "source": [
    "invoice_features = []\n",
    "client_features = []\n",
    "targets = []\n"
   ]
  },
  {
   "cell_type": "markdown",
   "metadata": {},
   "source": [
    "#### iterate each client\n",
    "\n",
    "For each client, we will select informational invoice features, pad them, and add them to invoice features, then obtain their informational client features and add them to client features, followed by adding their target to the targets container."
   ]
  },
  {
   "cell_type": "code",
   "execution_count": null,
   "metadata": {},
   "outputs": [],
   "source": [
    "for client_id, group in grouped_invoices:\n",
    "    # Extract and pad invoice features dynamically\n",
    "    invoices_seq = group[invoice_feature_cols].values  # Select relevant columns\n",
    "    padded_invoices = np.zeros((max_length, invoices_seq.shape[1]))\n",
    "    padded_invoices[:len(invoices_seq)] = invoices_seq\n",
    "    invoice_features.append(padded_invoices)\n",
    "    \n",
    "    # Extract client features dynamically\n",
    "    client_row = client[client['client_id'] == client_id].iloc[0]\n",
    "    client_feat = client_row[client_feature_cols].values\n",
    "    client_feat = client_feat.astype(int)\n",
    "    client_features.append(client_feat)\n",
    "    \n",
    "    # Append target\n",
    "    targets.append(client_row['fraud_status'])"
   ]
  },
  {
   "cell_type": "markdown",
   "metadata": {},
   "source": [
    "#### Pytorch dataset\n",
    "\n",
    "We will create a custom pytorch dataset to wrap the data."
   ]
  },
  {
   "cell_type": "code",
   "execution_count": null,
   "metadata": {},
   "outputs": [],
   "source": [
    "class FraudDataset(Dataset):\n",
    "    def __init__(self, invoice_features, client_features, targets):\n",
    "        self.invoice_features = torch.tensor(invoice_features, dtype=torch.float32)\n",
    "        self.client_features = torch.tensor(client_features, dtype=torch.float32)\n",
    "        self.targets = torch.tensor(targets, dtype=torch.float32)\n",
    "\n",
    "    def __len__(self):\n",
    "        return len(self.targets)\n",
    "\n",
    "    def __getitem__(self, idx):\n",
    "        return {\n",
    "            'invoices': self.invoice_features[idx],\n",
    "            'clients': self.client_features[idx],\n",
    "            'target': self.targets[idx]\n",
    "        }"
   ]
  },
  {
   "cell_type": "code",
   "execution_count": null,
   "metadata": {},
   "outputs": [],
   "source": [
    "client_features = np.array(client_features).astype(float)\n",
    "invoice_features = np.array(invoice_features).astype(float)\n",
    "targets = np.array(targets).astype(float)"
   ]
  },
  {
   "cell_type": "code",
   "execution_count": null,
   "metadata": {},
   "outputs": [],
   "source": [
    "print(client_features.dtype)\n",
    "print(invoice_features.dtype)\n",
    "print(targets.dtype)"
   ]
  },
  {
   "cell_type": "code",
   "execution_count": null,
   "metadata": {},
   "outputs": [],
   "source": [
    "train_dataset = FraudDataset(np.array(invoice_features), np.array(client_features), np.array(targets))\n",
    "train_loader = DataLoader(train_dataset, batch_size=16, shuffle=True)"
   ]
  },
  {
   "cell_type": "markdown",
   "metadata": {},
   "source": [
    "### Training RNN model\n",
    "\n",
    "Training the RNN model with pyTorch would require us to define a FraudRNN class. We will then set a method for forward, as well as define hyperparameters, which it will take in as input."
   ]
  },
  {
   "cell_type": "markdown",
   "metadata": {},
   "source": [
    "#### Create FraudRNN class\n",
    "\n",
    "We will create the FraudRNN class."
   ]
  },
  {
   "cell_type": "code",
   "execution_count": null,
   "metadata": {},
   "outputs": [],
   "source": [
    "class FraudRNN(nn.Module):\n",
    "    def __init__(self, seq_input_dim, client_input_dim, hidden_dim, output_dim, num_layers=1, dropout=0.5):\n",
    "        super(FraudRNN, self).__init__()\n",
    "        self.lstm = nn.LSTM(input_size=seq_input_dim, hidden_size=hidden_dim, num_layers=num_layers, batch_first=True, dropout=dropout)\n",
    "        self.client_dense = nn.Linear(client_input_dim, hidden_dim)\n",
    "        self.fc = nn.Linear(hidden_dim * 2, output_dim)\n",
    "        self.sigmoid = nn.Sigmoid()\n",
    "    \n",
    "    def forward(self, x_seq, x_client):\n",
    "        _, (h_n, _) = self.lstm(x_seq)\n",
    "        lstm_out = h_n[-1]\n",
    "        client_out = torch.relu(self.client_dense(x_client))\n",
    "        combined = torch.cat((lstm_out, client_out), dim=1)\n",
    "        output = self.sigmoid(self.fc(combined))\n",
    "        return output"
   ]
  },
  {
   "cell_type": "markdown",
   "metadata": {},
   "source": [
    "#### Create model, criterion and optimizer.\n",
    "\n",
    "We will then create our model with fixed hyperparameters, while setting a criterion for the loss function and an optimizer for efficient gradient upadtes."
   ]
  },
  {
   "cell_type": "code",
   "execution_count": null,
   "metadata": {},
   "outputs": [],
   "source": [
    "# Hyperparameters\n",
    "seq_input_dim = np.array(invoice_features).shape[2]\n",
    "client_input_dim = np.array(client_features).shape[1]\n",
    "hidden_dim = 64\n",
    "output_dim = 1\n",
    "num_epochs = 10\n",
    "learning_rate = 0.001\n",
    "model = FraudRNN(seq_input_dim, client_input_dim, hidden_dim, output_dim)\n",
    "criterion = nn.BCELoss()\n",
    "optimizer = optim.Adam(model.parameters(), lr=learning_rate)"
   ]
  },
  {
   "cell_type": "markdown",
   "metadata": {},
   "source": [
    "#### Training loop\n",
    "\n",
    "Here, we will loop the training so that the model can update its weights to reduce loss."
   ]
  },
  {
   "cell_type": "code",
   "execution_count": null,
   "metadata": {},
   "outputs": [],
   "source": [
    "for epoch in range(num_epochs):\n",
    "    model.train()\n",
    "    total_loss = 0\n",
    "    for X_seq_batch, X_client_batch, y_batch in train_loader:\n",
    "        optimizer.zero_grad()\n",
    "        y_pred = model(X_seq_batch, X_client_batch).squeeze()\n",
    "        loss = criterion(y_pred, y_batch)\n",
    "        loss.backward()\n",
    "        optimizer.step()\n",
    "        total_loss += loss.item()\n",
    "    \n",
    "    print(f\"Epoch {epoch+1}/{num_epochs}, Loss: {total_loss/len(train_loader):.4f}\")"
   ]
  },
  {
   "cell_type": "markdown",
   "metadata": {},
   "source": [
    "### Test RNN model\n",
    "\n",
    "\n",
    "We will test our model on the feature engineered RNN test dataset. We will be using accuracy, precision, recall, F1 score, as well as a confusion matrix for evaluation."
   ]
  },
  {
   "cell_type": "code",
   "execution_count": null,
   "metadata": {},
   "outputs": [],
   "source": []
  }
 ],
 "metadata": {
  "kernelspec": {
   "display_name": "Python 3",
   "language": "python",
   "name": "python3"
  },
  "language_info": {
   "codemirror_mode": {
    "name": "ipython",
    "version": 3
   },
   "file_extension": ".py",
   "mimetype": "text/x-python",
   "name": "python",
   "nbconvert_exporter": "python",
   "pygments_lexer": "ipython3",
   "version": "3.12.2"
  }
 },
 "nbformat": 4,
 "nbformat_minor": 2
}
